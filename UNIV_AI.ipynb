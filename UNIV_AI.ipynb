{
  "nbformat": 4,
  "nbformat_minor": 0,
  "metadata": {
    "colab": {
      "name": "UNIV.AI.ipynb",
      "provenance": []
    },
    "kernelspec": {
      "name": "python3",
      "display_name": "Python 3"
    },
    "language_info": {
      "name": "python"
    }
  },
  "cells": [
    {
      "cell_type": "code",
      "metadata": {
        "id": "wA8fB8xl0BZ1"
      },
      "source": [
        "import pandas as pd\n",
        "import numpy as np\n",
        "from sklearn.preprocessing import LabelEncoder\n",
        "import seaborn as sns\n",
        "\n",
        "import matplotlib.pyplot as plt\n",
        "%matplotlib inline \n"
      ],
      "execution_count": null,
      "outputs": []
    },
    {
      "cell_type": "code",
      "metadata": {
        "colab": {
          "base_uri": "https://localhost:8080/"
        },
        "id": "X1KfSO6G0Q7t",
        "outputId": "91bfaa98-9530-4683-dbd2-4a9f47fa80a5"
      },
      "source": [
        "!git clone https://github.com/shikhar2402/Geoffrey-Hinton-Fellowship-for-Artificial-Intelligence-AI-Hackathon-Univ.AI.git"
      ],
      "execution_count": null,
      "outputs": [
        {
          "output_type": "stream",
          "text": [
            "Cloning into 'Geoffrey-Hinton-Fellowship-for-Artificial-Intelligence-AI-Hackathon-Univ.AI'...\n",
            "remote: Enumerating objects: 7, done.\u001b[K\n",
            "remote: Counting objects: 100% (7/7), done.\u001b[K\n",
            "remote: Compressing objects: 100% (7/7), done.\u001b[K\n",
            "remote: Total 7 (delta 0), reused 0 (delta 0), pack-reused 0\u001b[K\n",
            "Unpacking objects: 100% (7/7), done.\n"
          ],
          "name": "stdout"
        }
      ]
    },
    {
      "cell_type": "code",
      "metadata": {
        "id": "eIIBrMhR0Q4R"
      },
      "source": [
        "import pandas as pd\n",
        "test=pd.read_csv(\"/content/Geoffrey-Hinton-Fellowship-for-Artificial-Intelligence-AI-Hackathon-Univ.AI/Test Data (2).csv\")\n",
        "train=pd.read_csv(\"/content/Geoffrey-Hinton-Fellowship-for-Artificial-Intelligence-AI-Hackathon-Univ.AI/Training Data (2).csv\")\n",
        "\n",
        "train_copy = train.copy()\n",
        "test_copy  = test.copy()"
      ],
      "execution_count": null,
      "outputs": []
    },
    {
      "cell_type": "code",
      "metadata": {
        "id": "rYM0epRA0Zr0"
      },
      "source": [
        "train"
      ],
      "execution_count": null,
      "outputs": []
    },
    {
      "cell_type": "code",
      "metadata": {
        "id": "HIEazMB49rrg"
      },
      "source": [
        "train.info()"
      ],
      "execution_count": null,
      "outputs": []
    },
    {
      "cell_type": "code",
      "metadata": {
        "id": "7gFcytCx9u0m"
      },
      "source": [
        "train.describe()"
      ],
      "execution_count": null,
      "outputs": []
    },
    {
      "cell_type": "code",
      "metadata": {
        "colab": {
          "base_uri": "https://localhost:8080/"
        },
        "id": "UyFrZIdy4J-B",
        "outputId": "cc2697ad-abb6-4e4b-a643-0a2e9cb88ffc"
      },
      "source": [
        "train[\"risk_flag\"].sum()"
      ],
      "execution_count": null,
      "outputs": [
        {
          "output_type": "execute_result",
          "data": {
            "text/plain": [
              "30996"
            ]
          },
          "metadata": {
            "tags": []
          },
          "execution_count": 22
        }
      ]
    },
    {
      "cell_type": "code",
      "metadata": {
        "colab": {
          "base_uri": "https://localhost:8080/"
        },
        "id": "pa0-HhPY1XIl",
        "outputId": "9f644ccc-1dce-4e7d-ba57-fde48fb5b499"
      },
      "source": [
        "train[train[\"married\"]==\"single\"][\"risk_flag\"].sum()"
      ],
      "execution_count": null,
      "outputs": [
        {
          "output_type": "execute_result",
          "data": {
            "text/plain": [
              "28360"
            ]
          },
          "metadata": {
            "tags": []
          },
          "execution_count": 10
        }
      ]
    },
    {
      "cell_type": "code",
      "metadata": {
        "colab": {
          "base_uri": "https://localhost:8080/"
        },
        "id": "3gnGmnXB1p44",
        "outputId": "ba4f9148-59de-426c-dfbc-317807a8143f"
      },
      "source": [
        "train[train[\"married\"]==\"married\"][\"risk_flag\"].sum()"
      ],
      "execution_count": null,
      "outputs": [
        {
          "output_type": "execute_result",
          "data": {
            "text/plain": [
              "2636"
            ]
          },
          "metadata": {
            "tags": []
          },
          "execution_count": 11
        }
      ]
    },
    {
      "cell_type": "markdown",
      "metadata": {
        "id": "OX75AL8Q2sOO"
      },
      "source": [
        "Data is highly unbalanced. We have to create synthetic data points."
      ]
    },
    {
      "cell_type": "code",
      "metadata": {
        "id": "ZFHD-KxV1izm"
      },
      "source": [
        "sns.countplot(x='risk_flag', data=train);"
      ],
      "execution_count": null,
      "outputs": []
    },
    {
      "cell_type": "code",
      "metadata": {
        "id": "2f8-3rGS2NL-"
      },
      "source": [
        "sns.factorplot(x='risk_flag', col='married', kind='count', data=train);"
      ],
      "execution_count": null,
      "outputs": []
    },
    {
      "cell_type": "markdown",
      "metadata": {
        "id": "KQ9nLU2d3HQ8"
      },
      "source": [
        "singles tend to do more fraud."
      ]
    },
    {
      "cell_type": "code",
      "metadata": {
        "id": "SHw-tO0O3GbQ"
      },
      "source": [
        "sns.factorplot(x='state', col='risk_flag', kind='count', data=train);"
      ],
      "execution_count": null,
      "outputs": []
    },
    {
      "cell_type": "code",
      "metadata": {
        "id": "Rs64DTxO2_Ym"
      },
      "source": [
        "sns.factorplot(x='risk_flag', col='car_ownership', kind='count', data=train)"
      ],
      "execution_count": null,
      "outputs": []
    },
    {
      "cell_type": "markdown",
      "metadata": {
        "id": "g94yfCwq36jO"
      },
      "source": [
        ""
      ]
    },
    {
      "cell_type": "code",
      "metadata": {
        "id": "WsqWu_7Y35tE"
      },
      "source": [
        "sns.factorplot(x='risk_flag', col='house_ownership', kind='count', data=train)"
      ],
      "execution_count": null,
      "outputs": []
    },
    {
      "cell_type": "code",
      "metadata": {
        "colab": {
          "base_uri": "https://localhost:8080/"
        },
        "id": "moNSsNvq33nI",
        "outputId": "00d427f5-3a6f-4b44-b69a-efac9a07301c"
      },
      "source": [
        "for i in range(20 , 60 , 5):\n",
        "  print(\"age greater than\" , i , \"crime percentage\" , train[train[\"age\"]>=i][\"risk_flag\"].sum()/train[\"risk_flag\"].sum())\n",
        "\n"
      ],
      "execution_count": null,
      "outputs": [
        {
          "output_type": "stream",
          "text": [
            "age greater than 20 crime percentage 1.0\n",
            "age greater than 25 crime percentage 0.9182152535811072\n",
            "age greater than 30 crime percentage 0.8151696993160408\n",
            "age greater than 35 crime percentage 0.7283520454252161\n",
            "age greater than 40 crime percentage 0.6509226997031875\n",
            "age greater than 45 crime percentage 0.5772680345851078\n",
            "age greater than 50 crime percentage 0.4879339269583172\n",
            "age greater than 55 crime percentage 0.40837527422893277\n"
          ],
          "name": "stdout"
        }
      ]
    },
    {
      "cell_type": "code",
      "metadata": {
        "id": "5gPRCwDH7kXZ"
      },
      "source": [
        "sns.distplot(train[\"age\"], kde=False)\n",
        "plt.show()"
      ],
      "execution_count": null,
      "outputs": []
    },
    {
      "cell_type": "code",
      "metadata": {
        "id": "6z6101Nb8P7u"
      },
      "source": [
        ""
      ],
      "execution_count": null,
      "outputs": []
    },
    {
      "cell_type": "code",
      "metadata": {
        "id": "VuvF0LvD8dcc"
      },
      "source": [
        "sns.distplot((train[\"income\"]) , kde=False)\n",
        "plt.show()"
      ],
      "execution_count": null,
      "outputs": []
    },
    {
      "cell_type": "code",
      "metadata": {
        "id": "MoD31uQi6LC4"
      },
      "source": [
        "sns.distplot(np.log(train[\"income\"]) , kde=False)\n",
        "plt.show()"
      ],
      "execution_count": null,
      "outputs": []
    },
    {
      "cell_type": "code",
      "metadata": {
        "id": "Jae8XF2c9PBK"
      },
      "source": [
        "corrmat =train.corr()\n",
        "f, ax = plt.subplots(figsize=(20,10))\n",
        "sns.heatmap(corrmat, square=True, annot=True,linewidth=0.8, cmap='RdBu')"
      ],
      "execution_count": null,
      "outputs": []
    },
    {
      "cell_type": "code",
      "metadata": {
        "id": "BlwCwIM99Y87"
      },
      "source": [
        "for i in range(0 , 15 , 2):\n",
        "  print(i ,\"to\",i+2 , \"  crime percentage ->\" , train[(train[\"current_job_years\"]>=i) & (train[\"current_job_years\"]<=i+2)][\"risk_flag\"].sum()/train[\"risk_flag\"].sum())"
      ],
      "execution_count": null,
      "outputs": []
    },
    {
      "cell_type": "markdown",
      "metadata": {
        "id": "YqSCgZGW_TSk"
      },
      "source": [
        "2-8 years old employee tend to commit more crime"
      ]
    },
    {
      "cell_type": "code",
      "metadata": {
        "id": "lDm2G9al-woc"
      },
      "source": [
        "for i in range(10 , 15 , 1):\n",
        "  print(i , \"  crime percentage ->\" , train[(train[\"current_house_years\"]==i) ][\"risk_flag\"].sum()/train[\"risk_flag\"].sum())"
      ],
      "execution_count": null,
      "outputs": []
    },
    {
      "cell_type": "code",
      "metadata": {
        "id": "WSeT_2eo_ywa"
      },
      "source": [
        "sns.factorplot(x='Survived', col='Sex', kind='count', data=df_train);\n"
      ],
      "execution_count": null,
      "outputs": []
    },
    {
      "cell_type": "code",
      "metadata": {
        "id": "1LwaOi5013Gb"
      },
      "source": [
        "def aggregate_features(x,col_name):\n",
        "    x[\"max_\"+col_name]=x[col_name].apply(np.max)\n",
        "    x[\"min_\"+col_name]=x[col_name].apply(np.min)\n",
        "    x[\"mean_\"+col_name]=x[col_name].apply(np.mean)\n",
        "    x[\"std_\"+col_name]=x[col_name].apply(np.std)\n",
        "    x[\"var_\"+col_name]=x[col_name].apply(np.var)\n",
        "    x[\"median_\"+col_name]=x[col_name].apply(np.median)\n",
        "    x[\"ptp_\"+col_name]=x[col_name].apply(np.ptp)\n",
        "    return x  "
      ],
      "execution_count": null,
      "outputs": []
    },
    {
      "cell_type": "code",
      "metadata": {
        "id": "YRfSmNsI19z-"
      },
      "source": [
        "data_tuples=[]\n",
        "for i in range(0 , 18 , 1):\n",
        "  print(i , i+1)\n",
        "  data_tuples.append( (i , train[(train[\"experience\"]-train[\"current_job_years\"]>=i)  & (train[\"experience\"]-train[\"current_job_years\"]<i+1)][\"risk_flag\"].sum()/train[\"risk_flag\"].sum()) )"
      ],
      "execution_count": null,
      "outputs": []
    },
    {
      "cell_type": "code",
      "metadata": {
        "colab": {
          "base_uri": "https://localhost:8080/"
        },
        "id": "2Mvc_cvm5SlE",
        "outputId": "b0b563b6-327f-4a3d-c187-bd40286aa89f"
      },
      "source": [
        "print(data_tuples)"
      ],
      "execution_count": null,
      "outputs": [
        {
          "output_type": "stream",
          "text": [
            "[(0, 0.49435411020776876), (1, 0.04058588204929668), (2, 0.04684475416182733), (3, 0.04481223383662408), (4, 0.04778035875596851), (5, 0.052071234998064264), (6, 0.037972641631178215), (7, 0.03861788617886179), (8, 0.04152148664343786), (9, 0.03245580074848368), (10, 0.028132662279003743), (11, 0.02155116789263131), (12, 0.020938185572331913), (13, 0.019002451929281197), (14, 0.011485352948767583), (15, 0.01064653503677894), (16, 0.008452703574654795), (17, 0.00277455155503936)]\n"
          ],
          "name": "stdout"
        }
      ]
    },
    {
      "cell_type": "code",
      "metadata": {
        "id": "szZeoH8d2YQB"
      },
      "source": [
        "df = pd.DataFrame(data_tuples, columns =['Difference_b/t_exp_employee' , 'Percent_Difference_b/t_exp_employee'])"
      ],
      "execution_count": null,
      "outputs": []
    },
    {
      "cell_type": "code",
      "metadata": {
        "id": "pUe8l9SY4KNh"
      },
      "source": [
        "test=test.rename(columns={\"id\": \"Id\"})\n",
        "data = train.append(test, sort = False)\n"
      ],
      "execution_count": null,
      "outputs": []
    },
    {
      "cell_type": "code",
      "metadata": {
        "id": "dNlxJpKl79hH"
      },
      "source": [
        "data[\"Difference_b/t_exp_employee\"]=data[\"experience\"]-data[\"current_job_years\"]\n",
        "data[\"Difference_b/t_age_house\"]=(data[\"age\"]-data[\"current_house_years\"])"
      ],
      "execution_count": null,
      "outputs": []
    },
    {
      "cell_type": "code",
      "metadata": {
        "id": "LFQlVow388k8"
      },
      "source": [
        "data"
      ],
      "execution_count": null,
      "outputs": []
    },
    {
      "cell_type": "code",
      "metadata": {
        "id": "WHJHwr_e_yZl"
      },
      "source": [
        "import re\n",
        "def remove_tags(string):\n",
        "    result = re.sub('[0-9]','',string)\n",
        "    str=\"\"\n",
        "    for ch in result:\n",
        "      if ch!='[':\n",
        "        str+=ch\n",
        "    str2=\"\"\n",
        "    for ch in str:\n",
        "      if ch!=']':\n",
        "        str2+=ch\n",
        "    return str2\n",
        "data.city=data.city.apply(lambda cw : remove_tags(cw))"
      ],
      "execution_count": null,
      "outputs": []
    },
    {
      "cell_type": "code",
      "metadata": {
        "id": "XhcBEBh7Anqt"
      },
      "source": [
        "data.loc[(data[\"state\"]==\"Uttar_Pradesh[5]\") | (data[\"state\"]==\"Uttar Pradesh[5]\") | (data[\"state\"]==\"Uttar Pradesh\") ,\"state\"] = \"Uttar_Pradesh\"\n",
        "data.loc[(data[\"state\"]==\"Andhra Pradesh\")  ,\"state\"] = \"Andhra_Pradesh\"\n",
        "data.loc[(data[\"state\"]==\"Himachal Pradesh\") ,\"state\"] = \"Himachal_Pradesh\"\n",
        "data.loc[(data[\"state\"]==\"Jammu and Kashmir\")  ,\"state\"] = \"Jammu_and_Kashmir\"\n",
        "data.loc[(data[\"state\"]==\"Madhya Pradesh\") ,\"state\"] = \"Madhya_Pradesh\"\n",
        "data.loc[(data[\"state\"]==\"Tamil Nadu\") ,\"state\"] = \"Tamil_Nadu\"\n",
        "data.loc[(data[\"state\"]==\"West Bengal\")  ,\"state\"] = \"West_Bengal\""
      ],
      "execution_count": null,
      "outputs": []
    },
    {
      "cell_type": "code",
      "metadata": {
        "id": "zo0ZONXa89jR"
      },
      "source": [
        "state_grouping = data.groupby(['state'])"
      ],
      "execution_count": null,
      "outputs": []
    },
    {
      "cell_type": "code",
      "metadata": {
        "colab": {
          "base_uri": "https://localhost:8080/"
        },
        "id": "ojNd4NAC9klG",
        "outputId": "8e4e15c9-95b8-4c31-ae55-42669609945c"
      },
      "source": [
        "state_grouping_mean  = state_grouping[\"current_job_years\" ,\t\"current_house_years\"].mean().reset_index()"
      ],
      "execution_count": null,
      "outputs": [
        {
          "output_type": "stream",
          "text": [
            "/usr/local/lib/python3.7/dist-packages/ipykernel_launcher.py:1: FutureWarning: Indexing with multiple keys (implicitly converted to a tuple of keys) will be deprecated, use a list instead.\n",
            "  \"\"\"Entry point for launching an IPython kernel.\n"
          ],
          "name": "stderr"
        }
      ]
    },
    {
      "cell_type": "code",
      "metadata": {
        "id": "5XNjZBKWCxVc"
      },
      "source": [
        "state_grouping_mean.columns = ['state' ,'current_job_years_mean' , 'current_house_years_mean']"
      ],
      "execution_count": null,
      "outputs": []
    },
    {
      "cell_type": "code",
      "metadata": {
        "id": "GKQq822z9l4G"
      },
      "source": [
        "data = data.merge(state_grouping_mean, on = [ 'state' ],how='left' )"
      ],
      "execution_count": null,
      "outputs": []
    },
    {
      "cell_type": "code",
      "metadata": {
        "id": "YroRUNJ5DZW5"
      },
      "source": [
        "car_grouping = data.groupby(['car_ownership' , 'house_ownership'])[\"income\" , \"risk_flag\"].sum().reset_index()\n",
        "car_grouping"
      ],
      "execution_count": null,
      "outputs": []
    },
    {
      "cell_type": "code",
      "metadata": {
        "id": "FXcbY1KvG73j"
      },
      "source": [
        "car_grouping[\"risk_flag\"]=car_grouping[\"risk_flag\"]/train[\"risk_flag\"].sum()\n",
        "car_grouping[\"income\"]=car_grouping[\"income\"]/train[\"income\"].sum()"
      ],
      "execution_count": null,
      "outputs": []
    },
    {
      "cell_type": "code",
      "metadata": {
        "colab": {
          "base_uri": "https://localhost:8080/",
          "height": 204
        },
        "id": "rYME-pMvHGBS",
        "outputId": "6b853e70-37e4-4556-921a-c9aeba567feb"
      },
      "source": [
        "car_grouping"
      ],
      "execution_count": null,
      "outputs": [
        {
          "output_type": "execute_result",
          "data": {
            "application/vnd.google.colaboratory.module+javascript": "\n      import \"https://ssl.gstatic.com/colaboratory/data_table/a6224c040fa35dcf/data_table.js\";\n\n      window.createDataTable({\n        data: [[{\n            'v': 0,\n            'f': \"0\",\n        },\n\"no\",\n\"norent_noown\",\n{\n            'v': 0.020147447915416575,\n            'f': \"0.020147447915416575\",\n        },\n{\n            'v': 0.015518131371789909,\n            'f': \"0.015518131371789909\",\n        }],\n [{\n            'v': 1,\n            'f': \"1\",\n        },\n\"no\",\n\"owned\",\n{\n            'v': 0.03827785366455081,\n            'f': \"0.03827785366455081\",\n        },\n{\n            'v': 0.028777906826687315,\n            'f': \"0.028777906826687315\",\n        }],\n [{\n            'v': 2,\n            'f': \"2\",\n        },\n\"no\",\n\"rented\",\n{\n            'v': 0.7172622238133515,\n            'f': \"0.7172622238133515\",\n        },\n{\n            'v': 0.6835720738159763,\n            'f': \"0.6835720738159763\",\n        }],\n [{\n            'v': 3,\n            'f': \"3\",\n        },\n\"yes\",\n\"norent_noown\",\n{\n            'v': 0.009389504541392578,\n            'f': \"0.009389504541392578\",\n        },\n{\n            'v': 0.007549361207897794,\n            'f': \"0.007549361207897794\",\n        }],\n [{\n            'v': 4,\n            'f': \"4\",\n        },\n\"yes\",\n\"owned\",\n{\n            'v': 0.018881695624114868,\n            'f': \"0.018881695624114868\",\n        },\n{\n            'v': 0.008646276938959866,\n            'f': \"0.008646276938959866\",\n        }],\n [{\n            'v': 5,\n            'f': \"5\",\n        },\n\"yes\",\n\"rented\",\n{\n            'v': 0.30787382355606463,\n            'f': \"0.30787382355606463\",\n        },\n{\n            'v': 0.25593624983868885,\n            'f': \"0.25593624983868885\",\n        }]],\n        columns: [[\"number\", \"index\"], [\"string\", \"car_ownership\"], [\"string\", \"house_ownership\"], [\"number\", \"income__mean\"], [\"number\", \"risk_flag_mean\"]],\n        columnOptions: [{\"width\": \"1px\", \"className\": \"index_column\"}],\n        rowsPerPage: 25,\n        helpUrl: \"https://colab.research.google.com/notebooks/data_table.ipynb\",\n        suppressOutputScrolling: true,\n        minimumWidth: undefined,\n      });\n    ",
            "text/html": [
              "<div>\n",
              "<style scoped>\n",
              "    .dataframe tbody tr th:only-of-type {\n",
              "        vertical-align: middle;\n",
              "    }\n",
              "\n",
              "    .dataframe tbody tr th {\n",
              "        vertical-align: top;\n",
              "    }\n",
              "\n",
              "    .dataframe thead th {\n",
              "        text-align: right;\n",
              "    }\n",
              "</style>\n",
              "<table border=\"1\" class=\"dataframe\">\n",
              "  <thead>\n",
              "    <tr style=\"text-align: right;\">\n",
              "      <th></th>\n",
              "      <th>car_ownership</th>\n",
              "      <th>house_ownership</th>\n",
              "      <th>income__mean</th>\n",
              "      <th>risk_flag_mean</th>\n",
              "    </tr>\n",
              "  </thead>\n",
              "  <tbody>\n",
              "    <tr>\n",
              "      <th>0</th>\n",
              "      <td>no</td>\n",
              "      <td>norent_noown</td>\n",
              "      <td>0.020147</td>\n",
              "      <td>0.015518</td>\n",
              "    </tr>\n",
              "    <tr>\n",
              "      <th>1</th>\n",
              "      <td>no</td>\n",
              "      <td>owned</td>\n",
              "      <td>0.038278</td>\n",
              "      <td>0.028778</td>\n",
              "    </tr>\n",
              "    <tr>\n",
              "      <th>2</th>\n",
              "      <td>no</td>\n",
              "      <td>rented</td>\n",
              "      <td>0.717262</td>\n",
              "      <td>0.683572</td>\n",
              "    </tr>\n",
              "    <tr>\n",
              "      <th>3</th>\n",
              "      <td>yes</td>\n",
              "      <td>norent_noown</td>\n",
              "      <td>0.009390</td>\n",
              "      <td>0.007549</td>\n",
              "    </tr>\n",
              "    <tr>\n",
              "      <th>4</th>\n",
              "      <td>yes</td>\n",
              "      <td>owned</td>\n",
              "      <td>0.018882</td>\n",
              "      <td>0.008646</td>\n",
              "    </tr>\n",
              "    <tr>\n",
              "      <th>5</th>\n",
              "      <td>yes</td>\n",
              "      <td>rented</td>\n",
              "      <td>0.307874</td>\n",
              "      <td>0.255936</td>\n",
              "    </tr>\n",
              "  </tbody>\n",
              "</table>\n",
              "</div>"
            ],
            "text/plain": [
              "  car_ownership house_ownership  income__mean  risk_flag_mean\n",
              "0            no    norent_noown      0.020147        0.015518\n",
              "1            no           owned      0.038278        0.028778\n",
              "2            no          rented      0.717262        0.683572\n",
              "3           yes    norent_noown      0.009390        0.007549\n",
              "4           yes           owned      0.018882        0.008646\n",
              "5           yes          rented      0.307874        0.255936"
            ]
          },
          "metadata": {
            "tags": []
          },
          "execution_count": 249
        }
      ]
    },
    {
      "cell_type": "code",
      "metadata": {
        "id": "rF8HFzFoHoun"
      },
      "source": [
        "car_grouping.columns = ['car_ownership' , 'house_ownership' , \"income__mean\" ,\"risk_flag_mean\"]"
      ],
      "execution_count": null,
      "outputs": []
    },
    {
      "cell_type": "code",
      "metadata": {
        "id": "rvW7ORm1IEQU"
      },
      "source": [
        "data = data.merge(car_grouping, on = [ 'car_ownership' , 'house_ownership' ],how='left' )"
      ],
      "execution_count": null,
      "outputs": []
    },
    {
      "cell_type": "code",
      "metadata": {
        "colab": {
          "base_uri": "https://localhost:8080/",
          "height": 458
        },
        "id": "RYzGoFbOIUQs",
        "outputId": "e4218e5a-47f4-45ef-8317-8ea9b3c16b15"
      },
      "source": [
        "data"
      ],
      "execution_count": null,
      "outputs": [
        {
          "output_type": "execute_result",
          "data": {
            "text/html": [
              "<div>\n",
              "<style scoped>\n",
              "    .dataframe tbody tr th:only-of-type {\n",
              "        vertical-align: middle;\n",
              "    }\n",
              "\n",
              "    .dataframe tbody tr th {\n",
              "        vertical-align: top;\n",
              "    }\n",
              "\n",
              "    .dataframe thead th {\n",
              "        text-align: right;\n",
              "    }\n",
              "</style>\n",
              "<table border=\"1\" class=\"dataframe\">\n",
              "  <thead>\n",
              "    <tr style=\"text-align: right;\">\n",
              "      <th></th>\n",
              "      <th>Id</th>\n",
              "      <th>income</th>\n",
              "      <th>age</th>\n",
              "      <th>experience</th>\n",
              "      <th>married</th>\n",
              "      <th>house_ownership</th>\n",
              "      <th>car_ownership</th>\n",
              "      <th>profession</th>\n",
              "      <th>city</th>\n",
              "      <th>state</th>\n",
              "      <th>current_job_years</th>\n",
              "      <th>current_house_years</th>\n",
              "      <th>risk_flag</th>\n",
              "      <th>Difference_b/t_exp_employee</th>\n",
              "      <th>current_job_years_mean</th>\n",
              "      <th>current_house_years_mean</th>\n",
              "      <th>Difference_b/t_age_house</th>\n",
              "      <th>income__mean</th>\n",
              "      <th>risk_flag_mean</th>\n",
              "    </tr>\n",
              "  </thead>\n",
              "  <tbody>\n",
              "    <tr>\n",
              "      <th>0</th>\n",
              "      <td>1</td>\n",
              "      <td>1303835</td>\n",
              "      <td>23</td>\n",
              "      <td>3</td>\n",
              "      <td>single</td>\n",
              "      <td>rented</td>\n",
              "      <td>no</td>\n",
              "      <td>Mechanical_engineer</td>\n",
              "      <td>Rewa</td>\n",
              "      <td>Madhya_Pradesh</td>\n",
              "      <td>3</td>\n",
              "      <td>13</td>\n",
              "      <td>0.0</td>\n",
              "      <td>0</td>\n",
              "      <td>6.590715</td>\n",
              "      <td>12.012499</td>\n",
              "      <td>10</td>\n",
              "      <td>0.717262</td>\n",
              "      <td>0.683572</td>\n",
              "    </tr>\n",
              "    <tr>\n",
              "      <th>1</th>\n",
              "      <td>2</td>\n",
              "      <td>7574516</td>\n",
              "      <td>40</td>\n",
              "      <td>10</td>\n",
              "      <td>single</td>\n",
              "      <td>rented</td>\n",
              "      <td>no</td>\n",
              "      <td>Software_Developer</td>\n",
              "      <td>Parbhani</td>\n",
              "      <td>Maharashtra</td>\n",
              "      <td>9</td>\n",
              "      <td>13</td>\n",
              "      <td>0.0</td>\n",
              "      <td>1</td>\n",
              "      <td>6.405502</td>\n",
              "      <td>11.935968</td>\n",
              "      <td>27</td>\n",
              "      <td>0.717262</td>\n",
              "      <td>0.683572</td>\n",
              "    </tr>\n",
              "    <tr>\n",
              "      <th>2</th>\n",
              "      <td>3</td>\n",
              "      <td>3991815</td>\n",
              "      <td>66</td>\n",
              "      <td>4</td>\n",
              "      <td>married</td>\n",
              "      <td>rented</td>\n",
              "      <td>no</td>\n",
              "      <td>Technical_writer</td>\n",
              "      <td>Alappuzha</td>\n",
              "      <td>Kerala</td>\n",
              "      <td>4</td>\n",
              "      <td>10</td>\n",
              "      <td>0.0</td>\n",
              "      <td>0</td>\n",
              "      <td>5.919110</td>\n",
              "      <td>12.071014</td>\n",
              "      <td>56</td>\n",
              "      <td>0.717262</td>\n",
              "      <td>0.683572</td>\n",
              "    </tr>\n",
              "    <tr>\n",
              "      <th>3</th>\n",
              "      <td>4</td>\n",
              "      <td>6256451</td>\n",
              "      <td>41</td>\n",
              "      <td>2</td>\n",
              "      <td>single</td>\n",
              "      <td>rented</td>\n",
              "      <td>yes</td>\n",
              "      <td>Software_Developer</td>\n",
              "      <td>Bhubaneswar</td>\n",
              "      <td>Odisha</td>\n",
              "      <td>2</td>\n",
              "      <td>12</td>\n",
              "      <td>1.0</td>\n",
              "      <td>0</td>\n",
              "      <td>6.432401</td>\n",
              "      <td>12.014763</td>\n",
              "      <td>29</td>\n",
              "      <td>0.307874</td>\n",
              "      <td>0.255936</td>\n",
              "    </tr>\n",
              "    <tr>\n",
              "      <th>4</th>\n",
              "      <td>5</td>\n",
              "      <td>5768871</td>\n",
              "      <td>47</td>\n",
              "      <td>11</td>\n",
              "      <td>single</td>\n",
              "      <td>rented</td>\n",
              "      <td>no</td>\n",
              "      <td>Civil_servant</td>\n",
              "      <td>Tiruchirappalli</td>\n",
              "      <td>Tamil_Nadu</td>\n",
              "      <td>3</td>\n",
              "      <td>14</td>\n",
              "      <td>1.0</td>\n",
              "      <td>8</td>\n",
              "      <td>6.556627</td>\n",
              "      <td>11.987109</td>\n",
              "      <td>33</td>\n",
              "      <td>0.717262</td>\n",
              "      <td>0.683572</td>\n",
              "    </tr>\n",
              "    <tr>\n",
              "      <th>...</th>\n",
              "      <td>...</td>\n",
              "      <td>...</td>\n",
              "      <td>...</td>\n",
              "      <td>...</td>\n",
              "      <td>...</td>\n",
              "      <td>...</td>\n",
              "      <td>...</td>\n",
              "      <td>...</td>\n",
              "      <td>...</td>\n",
              "      <td>...</td>\n",
              "      <td>...</td>\n",
              "      <td>...</td>\n",
              "      <td>...</td>\n",
              "      <td>...</td>\n",
              "      <td>...</td>\n",
              "      <td>...</td>\n",
              "      <td>...</td>\n",
              "      <td>...</td>\n",
              "      <td>...</td>\n",
              "    </tr>\n",
              "    <tr>\n",
              "      <th>279995</th>\n",
              "      <td>27996</td>\n",
              "      <td>9955481</td>\n",
              "      <td>57</td>\n",
              "      <td>13</td>\n",
              "      <td>single</td>\n",
              "      <td>rented</td>\n",
              "      <td>no</td>\n",
              "      <td>Statistician</td>\n",
              "      <td>Eluru</td>\n",
              "      <td>Andhra_Pradesh</td>\n",
              "      <td>5</td>\n",
              "      <td>10</td>\n",
              "      <td>NaN</td>\n",
              "      <td>8</td>\n",
              "      <td>6.204467</td>\n",
              "      <td>11.941814</td>\n",
              "      <td>47</td>\n",
              "      <td>0.717262</td>\n",
              "      <td>0.683572</td>\n",
              "    </tr>\n",
              "    <tr>\n",
              "      <th>279996</th>\n",
              "      <td>27997</td>\n",
              "      <td>2917765</td>\n",
              "      <td>47</td>\n",
              "      <td>9</td>\n",
              "      <td>single</td>\n",
              "      <td>rented</td>\n",
              "      <td>no</td>\n",
              "      <td>Technical writer</td>\n",
              "      <td>Ratlam</td>\n",
              "      <td>Madhya_Pradesh</td>\n",
              "      <td>9</td>\n",
              "      <td>14</td>\n",
              "      <td>NaN</td>\n",
              "      <td>0</td>\n",
              "      <td>6.590715</td>\n",
              "      <td>12.012499</td>\n",
              "      <td>33</td>\n",
              "      <td>0.717262</td>\n",
              "      <td>0.683572</td>\n",
              "    </tr>\n",
              "    <tr>\n",
              "      <th>279997</th>\n",
              "      <td>27998</td>\n",
              "      <td>8082415</td>\n",
              "      <td>24</td>\n",
              "      <td>5</td>\n",
              "      <td>single</td>\n",
              "      <td>rented</td>\n",
              "      <td>no</td>\n",
              "      <td>Lawyer</td>\n",
              "      <td>Mira-Bhayandar</td>\n",
              "      <td>Maharashtra</td>\n",
              "      <td>4</td>\n",
              "      <td>13</td>\n",
              "      <td>NaN</td>\n",
              "      <td>1</td>\n",
              "      <td>6.405502</td>\n",
              "      <td>11.935968</td>\n",
              "      <td>11</td>\n",
              "      <td>0.717262</td>\n",
              "      <td>0.683572</td>\n",
              "    </tr>\n",
              "    <tr>\n",
              "      <th>279998</th>\n",
              "      <td>27999</td>\n",
              "      <td>9474180</td>\n",
              "      <td>51</td>\n",
              "      <td>13</td>\n",
              "      <td>single</td>\n",
              "      <td>rented</td>\n",
              "      <td>yes</td>\n",
              "      <td>Chartered Accountant</td>\n",
              "      <td>Bhilai</td>\n",
              "      <td>Chhattisgarh</td>\n",
              "      <td>13</td>\n",
              "      <td>14</td>\n",
              "      <td>NaN</td>\n",
              "      <td>0</td>\n",
              "      <td>6.075644</td>\n",
              "      <td>12.104684</td>\n",
              "      <td>37</td>\n",
              "      <td>0.307874</td>\n",
              "      <td>0.255936</td>\n",
              "    </tr>\n",
              "    <tr>\n",
              "      <th>279999</th>\n",
              "      <td>28000</td>\n",
              "      <td>9250350</td>\n",
              "      <td>42</td>\n",
              "      <td>9</td>\n",
              "      <td>single</td>\n",
              "      <td>rented</td>\n",
              "      <td>no</td>\n",
              "      <td>Chef</td>\n",
              "      <td>Navi Mumbai</td>\n",
              "      <td>Maharashtra</td>\n",
              "      <td>4</td>\n",
              "      <td>10</td>\n",
              "      <td>NaN</td>\n",
              "      <td>5</td>\n",
              "      <td>6.405502</td>\n",
              "      <td>11.935968</td>\n",
              "      <td>32</td>\n",
              "      <td>0.717262</td>\n",
              "      <td>0.683572</td>\n",
              "    </tr>\n",
              "  </tbody>\n",
              "</table>\n",
              "<p>280000 rows × 19 columns</p>\n",
              "</div>"
            ],
            "text/plain": [
              "           Id   income  ...  income__mean  risk_flag_mean\n",
              "0           1  1303835  ...      0.717262        0.683572\n",
              "1           2  7574516  ...      0.717262        0.683572\n",
              "2           3  3991815  ...      0.717262        0.683572\n",
              "3           4  6256451  ...      0.307874        0.255936\n",
              "4           5  5768871  ...      0.717262        0.683572\n",
              "...       ...      ...  ...           ...             ...\n",
              "279995  27996  9955481  ...      0.717262        0.683572\n",
              "279996  27997  2917765  ...      0.717262        0.683572\n",
              "279997  27998  8082415  ...      0.717262        0.683572\n",
              "279998  27999  9474180  ...      0.307874        0.255936\n",
              "279999  28000  9250350  ...      0.717262        0.683572\n",
              "\n",
              "[280000 rows x 19 columns]"
            ]
          },
          "metadata": {
            "tags": []
          },
          "execution_count": 252
        }
      ]
    },
    {
      "cell_type": "code",
      "metadata": {
        "id": "1e-8goGdFqVh"
      },
      "source": [
        "from sklearn.preprocessing import LabelEncoder\n",
        "le = LabelEncoder()\n",
        "\n",
        "for col in ['city','profession','married'\t,'house_ownership'\t,'car_ownership','state']:\n",
        "    data[col]=  data[col].astype('str')\n",
        "    data[col]= le.fit_transform(data[col])\n",
        "data"
      ],
      "execution_count": null,
      "outputs": []
    },
    {
      "cell_type": "code",
      "metadata": {
        "id": "QEDvk0fVKVTy"
      },
      "source": [
        "data.drop(['Id', 'risk_flag'], axis=1, inplace=True)\n"
      ],
      "execution_count": null,
      "outputs": []
    },
    {
      "cell_type": "code",
      "metadata": {
        "id": "AljrR5rSJslk"
      },
      "source": [
        "data[\"income\"]=np.log(data[\"income\"])"
      ],
      "execution_count": null,
      "outputs": []
    },
    {
      "cell_type": "code",
      "metadata": {
        "colab": {
          "base_uri": "https://localhost:8080/"
        },
        "id": "CBYXy0d3KfvI",
        "outputId": "a5673829-77fc-4062-ef2b-44137b44ab19"
      },
      "source": [
        "train.shape"
      ],
      "execution_count": null,
      "outputs": [
        {
          "output_type": "execute_result",
          "data": {
            "text/plain": [
              "(252000, 13)"
            ]
          },
          "metadata": {
            "tags": []
          },
          "execution_count": 261
        }
      ]
    },
    {
      "cell_type": "code",
      "metadata": {
        "colab": {
          "base_uri": "https://localhost:8080/",
          "height": 424
        },
        "id": "4Ih5cCRVKzG6",
        "outputId": "024b60cd-2114-424f-9658-93797582ee94"
      },
      "source": [
        "data"
      ],
      "execution_count": null,
      "outputs": [
        {
          "output_type": "execute_result",
          "data": {
            "text/html": [
              "<div>\n",
              "<style scoped>\n",
              "    .dataframe tbody tr th:only-of-type {\n",
              "        vertical-align: middle;\n",
              "    }\n",
              "\n",
              "    .dataframe tbody tr th {\n",
              "        vertical-align: top;\n",
              "    }\n",
              "\n",
              "    .dataframe thead th {\n",
              "        text-align: right;\n",
              "    }\n",
              "</style>\n",
              "<table border=\"1\" class=\"dataframe\">\n",
              "  <thead>\n",
              "    <tr style=\"text-align: right;\">\n",
              "      <th></th>\n",
              "      <th>income</th>\n",
              "      <th>age</th>\n",
              "      <th>experience</th>\n",
              "      <th>married</th>\n",
              "      <th>house_ownership</th>\n",
              "      <th>car_ownership</th>\n",
              "      <th>profession</th>\n",
              "      <th>city</th>\n",
              "      <th>state</th>\n",
              "      <th>current_job_years</th>\n",
              "      <th>current_house_years</th>\n",
              "      <th>Difference_b/t_exp_employee</th>\n",
              "      <th>current_job_years_mean</th>\n",
              "      <th>current_house_years_mean</th>\n",
              "      <th>Difference_b/t_age_house</th>\n",
              "      <th>income__mean</th>\n",
              "      <th>risk_flag_mean</th>\n",
              "    </tr>\n",
              "  </thead>\n",
              "  <tbody>\n",
              "    <tr>\n",
              "      <th>0</th>\n",
              "      <td>14.080820</td>\n",
              "      <td>23</td>\n",
              "      <td>3</td>\n",
              "      <td>1</td>\n",
              "      <td>2</td>\n",
              "      <td>0</td>\n",
              "      <td>46</td>\n",
              "      <td>181</td>\n",
              "      <td>13</td>\n",
              "      <td>3</td>\n",
              "      <td>13</td>\n",
              "      <td>0</td>\n",
              "      <td>6.590715</td>\n",
              "      <td>12.012499</td>\n",
              "      <td>10</td>\n",
              "      <td>0.717262</td>\n",
              "      <td>0.683572</td>\n",
              "    </tr>\n",
              "    <tr>\n",
              "      <th>1</th>\n",
              "      <td>15.840300</td>\n",
              "      <td>40</td>\n",
              "      <td>10</td>\n",
              "      <td>1</td>\n",
              "      <td>2</td>\n",
              "      <td>0</td>\n",
              "      <td>60</td>\n",
              "      <td>152</td>\n",
              "      <td>14</td>\n",
              "      <td>9</td>\n",
              "      <td>13</td>\n",
              "      <td>1</td>\n",
              "      <td>6.405502</td>\n",
              "      <td>11.935968</td>\n",
              "      <td>27</td>\n",
              "      <td>0.717262</td>\n",
              "      <td>0.683572</td>\n",
              "    </tr>\n",
              "    <tr>\n",
              "      <th>2</th>\n",
              "      <td>15.199757</td>\n",
              "      <td>66</td>\n",
              "      <td>4</td>\n",
              "      <td>0</td>\n",
              "      <td>2</td>\n",
              "      <td>0</td>\n",
              "      <td>65</td>\n",
              "      <td>310</td>\n",
              "      <td>12</td>\n",
              "      <td>4</td>\n",
              "      <td>10</td>\n",
              "      <td>0</td>\n",
              "      <td>5.919110</td>\n",
              "      <td>12.071014</td>\n",
              "      <td>56</td>\n",
              "      <td>0.717262</td>\n",
              "      <td>0.683572</td>\n",
              "    </tr>\n",
              "    <tr>\n",
              "      <th>3</th>\n",
              "      <td>15.649124</td>\n",
              "      <td>41</td>\n",
              "      <td>2</td>\n",
              "      <td>1</td>\n",
              "      <td>2</td>\n",
              "      <td>1</td>\n",
              "      <td>60</td>\n",
              "      <td>282</td>\n",
              "      <td>17</td>\n",
              "      <td>2</td>\n",
              "      <td>12</td>\n",
              "      <td>0</td>\n",
              "      <td>6.432401</td>\n",
              "      <td>12.014763</td>\n",
              "      <td>29</td>\n",
              "      <td>0.307874</td>\n",
              "      <td>0.255936</td>\n",
              "    </tr>\n",
              "    <tr>\n",
              "      <th>4</th>\n",
              "      <td>15.567987</td>\n",
              "      <td>47</td>\n",
              "      <td>11</td>\n",
              "      <td>1</td>\n",
              "      <td>2</td>\n",
              "      <td>0</td>\n",
              "      <td>10</td>\n",
              "      <td>237</td>\n",
              "      <td>22</td>\n",
              "      <td>3</td>\n",
              "      <td>14</td>\n",
              "      <td>8</td>\n",
              "      <td>6.556627</td>\n",
              "      <td>11.987109</td>\n",
              "      <td>33</td>\n",
              "      <td>0.717262</td>\n",
              "      <td>0.683572</td>\n",
              "    </tr>\n",
              "    <tr>\n",
              "      <th>...</th>\n",
              "      <td>...</td>\n",
              "      <td>...</td>\n",
              "      <td>...</td>\n",
              "      <td>...</td>\n",
              "      <td>...</td>\n",
              "      <td>...</td>\n",
              "      <td>...</td>\n",
              "      <td>...</td>\n",
              "      <td>...</td>\n",
              "      <td>...</td>\n",
              "      <td>...</td>\n",
              "      <td>...</td>\n",
              "      <td>...</td>\n",
              "      <td>...</td>\n",
              "      <td>...</td>\n",
              "      <td>...</td>\n",
              "      <td>...</td>\n",
              "    </tr>\n",
              "    <tr>\n",
              "      <th>279995</th>\n",
              "      <td>16.113634</td>\n",
              "      <td>57</td>\n",
              "      <td>13</td>\n",
              "      <td>1</td>\n",
              "      <td>2</td>\n",
              "      <td>0</td>\n",
              "      <td>61</td>\n",
              "      <td>323</td>\n",
              "      <td>0</td>\n",
              "      <td>5</td>\n",
              "      <td>10</td>\n",
              "      <td>8</td>\n",
              "      <td>6.204467</td>\n",
              "      <td>11.941814</td>\n",
              "      <td>47</td>\n",
              "      <td>0.717262</td>\n",
              "      <td>0.683572</td>\n",
              "    </tr>\n",
              "    <tr>\n",
              "      <th>279996</th>\n",
              "      <td>14.886328</td>\n",
              "      <td>47</td>\n",
              "      <td>9</td>\n",
              "      <td>1</td>\n",
              "      <td>2</td>\n",
              "      <td>0</td>\n",
              "      <td>64</td>\n",
              "      <td>177</td>\n",
              "      <td>13</td>\n",
              "      <td>9</td>\n",
              "      <td>14</td>\n",
              "      <td>0</td>\n",
              "      <td>6.590715</td>\n",
              "      <td>12.012499</td>\n",
              "      <td>33</td>\n",
              "      <td>0.717262</td>\n",
              "      <td>0.683572</td>\n",
              "    </tr>\n",
              "    <tr>\n",
              "      <th>279997</th>\n",
              "      <td>15.905201</td>\n",
              "      <td>24</td>\n",
              "      <td>5</td>\n",
              "      <td>1</td>\n",
              "      <td>2</td>\n",
              "      <td>0</td>\n",
              "      <td>41</td>\n",
              "      <td>106</td>\n",
              "      <td>14</td>\n",
              "      <td>4</td>\n",
              "      <td>13</td>\n",
              "      <td>1</td>\n",
              "      <td>6.405502</td>\n",
              "      <td>11.935968</td>\n",
              "      <td>11</td>\n",
              "      <td>0.717262</td>\n",
              "      <td>0.683572</td>\n",
              "    </tr>\n",
              "    <tr>\n",
              "      <th>279998</th>\n",
              "      <td>16.064081</td>\n",
              "      <td>51</td>\n",
              "      <td>13</td>\n",
              "      <td>1</td>\n",
              "      <td>2</td>\n",
              "      <td>1</td>\n",
              "      <td>2</td>\n",
              "      <td>274</td>\n",
              "      <td>4</td>\n",
              "      <td>13</td>\n",
              "      <td>14</td>\n",
              "      <td>0</td>\n",
              "      <td>6.075644</td>\n",
              "      <td>12.104684</td>\n",
              "      <td>37</td>\n",
              "      <td>0.307874</td>\n",
              "      <td>0.255936</td>\n",
              "    </tr>\n",
              "    <tr>\n",
              "      <th>279999</th>\n",
              "      <td>16.040172</td>\n",
              "      <td>42</td>\n",
              "      <td>9</td>\n",
              "      <td>1</td>\n",
              "      <td>2</td>\n",
              "      <td>0</td>\n",
              "      <td>4</td>\n",
              "      <td>132</td>\n",
              "      <td>14</td>\n",
              "      <td>4</td>\n",
              "      <td>10</td>\n",
              "      <td>5</td>\n",
              "      <td>6.405502</td>\n",
              "      <td>11.935968</td>\n",
              "      <td>32</td>\n",
              "      <td>0.717262</td>\n",
              "      <td>0.683572</td>\n",
              "    </tr>\n",
              "  </tbody>\n",
              "</table>\n",
              "<p>280000 rows × 17 columns</p>\n",
              "</div>"
            ],
            "text/plain": [
              "           income  age  ...  income__mean  risk_flag_mean\n",
              "0       14.080820   23  ...      0.717262        0.683572\n",
              "1       15.840300   40  ...      0.717262        0.683572\n",
              "2       15.199757   66  ...      0.717262        0.683572\n",
              "3       15.649124   41  ...      0.307874        0.255936\n",
              "4       15.567987   47  ...      0.717262        0.683572\n",
              "...           ...  ...  ...           ...             ...\n",
              "279995  16.113634   57  ...      0.717262        0.683572\n",
              "279996  14.886328   47  ...      0.717262        0.683572\n",
              "279997  15.905201   24  ...      0.717262        0.683572\n",
              "279998  16.064081   51  ...      0.307874        0.255936\n",
              "279999  16.040172   42  ...      0.717262        0.683572\n",
              "\n",
              "[280000 rows x 17 columns]"
            ]
          },
          "metadata": {
            "tags": []
          },
          "execution_count": 264
        }
      ]
    },
    {
      "cell_type": "code",
      "metadata": {
        "id": "t_BBzlkJK3ks"
      },
      "source": [
        "data_copy = data.copy(deep = True)"
      ],
      "execution_count": null,
      "outputs": []
    },
    {
      "cell_type": "code",
      "metadata": {
        "id": "EkguqO7GKQSU"
      },
      "source": [
        "X_train=data.iloc[:252000 , :]\n",
        "X_test=data.iloc[252000: , :]\n",
        "Y_train=train[\"risk_flag\"]"
      ],
      "execution_count": null,
      "outputs": []
    },
    {
      "cell_type": "code",
      "metadata": {
        "colab": {
          "base_uri": "https://localhost:8080/"
        },
        "id": "YOvl1U7HLEX5",
        "outputId": "875c552f-11dd-4f0c-c782-0bea966506c4"
      },
      "source": [
        "print(X_train.shape , X_test.shape , Y_train.shape)"
      ],
      "execution_count": null,
      "outputs": [
        {
          "output_type": "stream",
          "text": [
            "(252000, 17) (28000, 17) (252000, 1)\n"
          ],
          "name": "stdout"
        }
      ]
    },
    {
      "cell_type": "code",
      "metadata": {
        "id": "E92g7_HULY3K"
      },
      "source": [
        "Y_train=Y_train.values.reshape(-1 , 1)"
      ],
      "execution_count": null,
      "outputs": []
    },
    {
      "cell_type": "code",
      "metadata": {
        "id": "SUXnAVHRL3Pb"
      },
      "source": [
        ""
      ],
      "execution_count": null,
      "outputs": []
    },
    {
      "cell_type": "markdown",
      "metadata": {
        "id": "ofYT_v2_Lsvc"
      },
      "source": [
        "Model Building"
      ]
    },
    {
      "cell_type": "code",
      "metadata": {
        "id": "UfBV0ohcyqTv"
      },
      "source": [
        "from sklearn.model_selection import train_test_split\n",
        "X_train, X_test, y_train, y_test = train_test_split(X_sampled, y_sampled, test_size=0.10, random_state=12)\n",
        "\n",
        "#feature scaling\n",
        "from sklearn.preprocessing import MinMaxScaler\n",
        "\n",
        "sc_X = MinMaxScaler()\n",
        "X_train = sc_X.fit_transform(X_train)\n",
        "X_test = sc_X.transform(X_test)"
      ],
      "execution_count": null,
      "outputs": []
    },
    {
      "cell_type": "code",
      "metadata": {
        "id": "xuZF0hmqLbJF"
      },
      "source": [
        "from sklearn.ensemble import  RandomForestClassifier\n",
        "from sklearn.linear_model import LogisticRegression\n",
        "from sklearn.ensemble import  AdaBoostClassifier\n",
        "\n",
        "model =  LogisticRegression(random_state=2001)\n",
        "\n",
        "clf4 = AdaBoostClassifier(base_estimator =model, n_estimators=2000, learning_rate =0.2)\n",
        "rf = catboost.CatBoostClassifier(cat_features= [3,6,7,8,62],  max_depth=5, reg_lambda=3,\n",
        "                                    verbose=True )"
      ],
      "execution_count": null,
      "outputs": []
    },
    {
      "cell_type": "code",
      "metadata": {
        "id": "J5_53OsxOHrL"
      },
      "source": [
        "from sklearn.linear_model import LogisticRegression\n",
        "from sklearn.model_selection import cross_val_score\n",
        "\n",
        "lr = LogisticRegression()\n",
        "scores = cross_val_score(lr, X_train , Y_train, cv = 10)\n",
        "accuracy_lr = scores.mean()"
      ],
      "execution_count": null,
      "outputs": []
    },
    {
      "cell_type": "code",
      "metadata": {
        "colab": {
          "base_uri": "https://localhost:8080/"
        },
        "id": "K7M-1wuqOHoX",
        "outputId": "0d1ad8d3-3b9b-43db-e029-cf19121d03e5"
      },
      "source": [
        "print(accuracy_lr)"
      ],
      "execution_count": null,
      "outputs": [
        {
          "output_type": "stream",
          "text": [
            "0.877\n"
          ],
          "name": "stdout"
        }
      ]
    },
    {
      "cell_type": "code",
      "metadata": {
        "colab": {
          "base_uri": "https://localhost:8080/"
        },
        "id": "PCJEE0gcPOhg",
        "outputId": "a3460deb-4e33-43ce-fa85-98c9d733f539"
      },
      "source": [
        "lr.fit(X_train , Y_train)\n",
        "pred=lr.predict(X_train)"
      ],
      "execution_count": null,
      "outputs": [
        {
          "output_type": "stream",
          "text": [
            "/usr/local/lib/python3.7/dist-packages/sklearn/utils/validation.py:760: DataConversionWarning: A column-vector y was passed when a 1d array was expected. Please change the shape of y to (n_samples, ), for example using ravel().\n",
            "  y = column_or_1d(y, warn=True)\n",
            "/usr/local/lib/python3.7/dist-packages/sklearn/linear_model/_logistic.py:940: ConvergenceWarning: lbfgs failed to converge (status=1):\n",
            "STOP: TOTAL NO. of ITERATIONS REACHED LIMIT.\n",
            "\n",
            "Increase the number of iterations (max_iter) or scale the data as shown in:\n",
            "    https://scikit-learn.org/stable/modules/preprocessing.html\n",
            "Please also refer to the documentation for alternative solver options:\n",
            "    https://scikit-learn.org/stable/modules/linear_model.html#logistic-regression\n",
            "  extra_warning_msg=_LOGISTIC_SOLVER_CONVERGENCE_MSG)\n"
          ],
          "name": "stderr"
        }
      ]
    },
    {
      "cell_type": "code",
      "metadata": {
        "id": "uO5EPIcWy_tv"
      },
      "source": [
        ""
      ],
      "execution_count": null,
      "outputs": []
    },
    {
      "cell_type": "code",
      "metadata": {
        "colab": {
          "base_uri": "https://localhost:8080/",
          "height": 526
        },
        "id": "K9Yx1HvcPIMg",
        "outputId": "1ee543f9-558b-4646-862b-8b9457bd4df1"
      },
      "source": [
        "from sklearn.metrics import confusion_matrix\n",
        "\n",
        "cm = confusion_matrix(X_train, pred, Y_train)\n",
        "print(cm)\n",
        "fig = plt.figure()\n",
        "ax = fig.add_subplot(111)\n",
        "cax = ax.matshow(cm)\n",
        "plt.title('Confusion matrix of the classifier')\n",
        "fig.colorbar(cax)\n",
        "ax.set_xticklabels([''] + labels)\n",
        "ax.set_yticklabels([''] + labels)\n",
        "plt.xlabel('Predicted')\n",
        "plt.ylabel('True')\n",
        "plt.show()"
      ],
      "execution_count": null,
      "outputs": [
        {
          "output_type": "stream",
          "text": [
            "[[221004  30996]\n",
            " [     0      0]]\n"
          ],
          "name": "stdout"
        },
        {
          "output_type": "error",
          "ename": "NameError",
          "evalue": "ignored",
          "traceback": [
            "\u001b[0;31m---------------------------------------------------------------------------\u001b[0m",
            "\u001b[0;31mNameError\u001b[0m                                 Traceback (most recent call last)",
            "\u001b[0;32m<ipython-input-302-b670a164ef74>\u001b[0m in \u001b[0;36m<module>\u001b[0;34m()\u001b[0m\n\u001b[1;32m      8\u001b[0m \u001b[0mplt\u001b[0m\u001b[0;34m.\u001b[0m\u001b[0mtitle\u001b[0m\u001b[0;34m(\u001b[0m\u001b[0;34m'Confusion matrix of the classifier'\u001b[0m\u001b[0;34m)\u001b[0m\u001b[0;34m\u001b[0m\u001b[0;34m\u001b[0m\u001b[0m\n\u001b[1;32m      9\u001b[0m \u001b[0mfig\u001b[0m\u001b[0;34m.\u001b[0m\u001b[0mcolorbar\u001b[0m\u001b[0;34m(\u001b[0m\u001b[0mcax\u001b[0m\u001b[0;34m)\u001b[0m\u001b[0;34m\u001b[0m\u001b[0;34m\u001b[0m\u001b[0m\n\u001b[0;32m---> 10\u001b[0;31m \u001b[0max\u001b[0m\u001b[0;34m.\u001b[0m\u001b[0mset_xticklabels\u001b[0m\u001b[0;34m(\u001b[0m\u001b[0;34m[\u001b[0m\u001b[0;34m''\u001b[0m\u001b[0;34m]\u001b[0m \u001b[0;34m+\u001b[0m \u001b[0mlabels\u001b[0m\u001b[0;34m)\u001b[0m\u001b[0;34m\u001b[0m\u001b[0;34m\u001b[0m\u001b[0m\n\u001b[0m\u001b[1;32m     11\u001b[0m \u001b[0max\u001b[0m\u001b[0;34m.\u001b[0m\u001b[0mset_yticklabels\u001b[0m\u001b[0;34m(\u001b[0m\u001b[0;34m[\u001b[0m\u001b[0;34m''\u001b[0m\u001b[0;34m]\u001b[0m \u001b[0;34m+\u001b[0m \u001b[0mlabels\u001b[0m\u001b[0;34m)\u001b[0m\u001b[0;34m\u001b[0m\u001b[0;34m\u001b[0m\u001b[0m\n\u001b[1;32m     12\u001b[0m \u001b[0mplt\u001b[0m\u001b[0;34m.\u001b[0m\u001b[0mxlabel\u001b[0m\u001b[0;34m(\u001b[0m\u001b[0;34m'Predicted'\u001b[0m\u001b[0;34m)\u001b[0m\u001b[0;34m\u001b[0m\u001b[0;34m\u001b[0m\u001b[0m\n",
            "\u001b[0;31mNameError\u001b[0m: name 'labels' is not defined"
          ]
        },
        {
          "output_type": "display_data",
          "data": {
            "image/png": "[encoded data removed]",
            "text/plain": [
              "<Figure size 432x288 with 2 Axes>"
            ]
          },
          "metadata": {
            "tags": [],
            "needs_background": "light"
          }
        }
      ]
    },
    {
      "cell_type": "code",
      "metadata": {
        "colab": {
          "base_uri": "https://localhost:8080/"
        },
        "id": "W0yARr7fOHlS",
        "outputId": "03098e69-787d-426e-f8cc-9e50288f31c3"
      },
      "source": [
        "from sklearn.neighbors import KNeighborsClassifier\n",
        "\n",
        "knn = KNeighborsClassifier(n_neighbors = 1)\n",
        "scores = cross_val_score(knn, X_train , Y_train, cv = 10)\n",
        "accuracy_knn = scores.mean()\n",
        "\n",
        "print(accuracy_knn)\n"
      ],
      "execution_count": null,
      "outputs": [
        {
          "output_type": "stream",
          "text": [
            "/usr/local/lib/python3.7/dist-packages/sklearn/model_selection/_validation.py:515: DataConversionWarning: A column-vector y was passed when a 1d array was expected. Please change the shape of y to (n_samples, ), for example using ravel().\n",
            "  estimator.fit(X_train, y_train, **fit_params)\n",
            "/usr/local/lib/python3.7/dist-packages/sklearn/model_selection/_validation.py:515: DataConversionWarning: A column-vector y was passed when a 1d array was expected. Please change the shape of y to (n_samples, ), for example using ravel().\n",
            "  estimator.fit(X_train, y_train, **fit_params)\n",
            "/usr/local/lib/python3.7/dist-packages/sklearn/model_selection/_validation.py:515: DataConversionWarning: A column-vector y was passed when a 1d array was expected. Please change the shape of y to (n_samples, ), for example using ravel().\n",
            "  estimator.fit(X_train, y_train, **fit_params)\n",
            "/usr/local/lib/python3.7/dist-packages/sklearn/model_selection/_validation.py:515: DataConversionWarning: A column-vector y was passed when a 1d array was expected. Please change the shape of y to (n_samples, ), for example using ravel().\n",
            "  estimator.fit(X_train, y_train, **fit_params)\n",
            "/usr/local/lib/python3.7/dist-packages/sklearn/model_selection/_validation.py:515: DataConversionWarning: A column-vector y was passed when a 1d array was expected. Please change the shape of y to (n_samples, ), for example using ravel().\n",
            "  estimator.fit(X_train, y_train, **fit_params)\n",
            "/usr/local/lib/python3.7/dist-packages/sklearn/model_selection/_validation.py:515: DataConversionWarning: A column-vector y was passed when a 1d array was expected. Please change the shape of y to (n_samples, ), for example using ravel().\n",
            "  estimator.fit(X_train, y_train, **fit_params)\n",
            "/usr/local/lib/python3.7/dist-packages/sklearn/model_selection/_validation.py:515: DataConversionWarning: A column-vector y was passed when a 1d array was expected. Please change the shape of y to (n_samples, ), for example using ravel().\n",
            "  estimator.fit(X_train, y_train, **fit_params)\n",
            "/usr/local/lib/python3.7/dist-packages/sklearn/model_selection/_validation.py:515: DataConversionWarning: A column-vector y was passed when a 1d array was expected. Please change the shape of y to (n_samples, ), for example using ravel().\n",
            "  estimator.fit(X_train, y_train, **fit_params)\n",
            "/usr/local/lib/python3.7/dist-packages/sklearn/model_selection/_validation.py:515: DataConversionWarning: A column-vector y was passed when a 1d array was expected. Please change the shape of y to (n_samples, ), for example using ravel().\n",
            "  estimator.fit(X_train, y_train, **fit_params)\n",
            "/usr/local/lib/python3.7/dist-packages/sklearn/model_selection/_validation.py:515: DataConversionWarning: A column-vector y was passed when a 1d array was expected. Please change the shape of y to (n_samples, ), for example using ravel().\n",
            "  estimator.fit(X_train, y_train, **fit_params)\n"
          ],
          "name": "stderr"
        },
        {
          "output_type": "stream",
          "text": [
            "0.8691944444444445\n"
          ],
          "name": "stdout"
        }
      ]
    },
    {
      "cell_type": "code",
      "metadata": {
        "id": "mXcJGzNvOHjl"
      },
      "source": [
        ""
      ],
      "execution_count": null,
      "outputs": []
    },
    {
      "cell_type": "code",
      "metadata": {
        "id": "cxuxTIXvOHfK"
      },
      "source": [
        ""
      ],
      "execution_count": null,
      "outputs": []
    },
    {
      "cell_type": "code",
      "metadata": {
        "colab": {
          "base_uri": "https://localhost:8080/"
        },
        "id": "mAw125FiMBJ_",
        "outputId": "bf7d5259-c092-4899-98cd-dbc011c4f7ed"
      },
      "source": [
        "import xgboost\n",
        "from xgboost import XGBClassifier\n",
        "\n",
        "model = XGBClassifier(n_estimators=1000, scale_pos_weight=10)\n",
        "model.fit(X_train , Y_train)"
      ],
      "execution_count": null,
      "outputs": [
        {
          "output_type": "stream",
          "text": [
            "/usr/local/lib/python3.7/dist-packages/sklearn/preprocessing/_label.py:235: DataConversionWarning: A column-vector y was passed when a 1d array was expected. Please change the shape of y to (n_samples, ), for example using ravel().\n",
            "  y = column_or_1d(y, warn=True)\n",
            "/usr/local/lib/python3.7/dist-packages/sklearn/preprocessing/_label.py:268: DataConversionWarning: A column-vector y was passed when a 1d array was expected. Please change the shape of y to (n_samples, ), for example using ravel().\n",
            "  y = column_or_1d(y, warn=True)\n"
          ],
          "name": "stderr"
        },
        {
          "output_type": "execute_result",
          "data": {
            "text/plain": [
              "XGBClassifier(base_score=0.5, booster='gbtree', colsample_bylevel=1,\n",
              "              colsample_bynode=1, colsample_bytree=1, gamma=0,\n",
              "              learning_rate=0.1, max_delta_step=0, max_depth=3,\n",
              "              min_child_weight=1, missing=None, n_estimators=1000, n_jobs=1,\n",
              "              nthread=None, objective='binary:logistic', random_state=0,\n",
              "              reg_alpha=0, reg_lambda=1, scale_pos_weight=10, seed=None,\n",
              "              silent=None, subsample=1, verbosity=1)"
            ]
          },
          "metadata": {
            "tags": []
          },
          "execution_count": 287
        }
      ]
    },
    {
      "cell_type": "code",
      "metadata": {
        "id": "h15je9AmMJyB"
      },
      "source": [
        "pred = model.predict_proba(X_test)\n",
        "outcome = model.predict(X_test)"
      ],
      "execution_count": null,
      "outputs": []
    },
    {
      "cell_type": "code",
      "metadata": {
        "colab": {
          "base_uri": "https://localhost:8080/"
        },
        "id": "rl0YHLWpM9it",
        "outputId": "cc58b8e1-a802-44b1-c7a6-6f047fb340a1"
      },
      "source": [
        "result = model.score(X_train, Y_train)\n",
        "result"
      ],
      "execution_count": null,
      "outputs": [
        {
          "output_type": "execute_result",
          "data": {
            "text/plain": [
              "0.6322380952380953"
            ]
          },
          "metadata": {
            "tags": []
          },
          "execution_count": 291
        }
      ]
    },
    {
      "cell_type": "code",
      "metadata": {
        "colab": {
          "base_uri": "https://localhost:8080/"
        },
        "id": "QkrAgc40Mm3K",
        "outputId": "a6dc853f-d46c-4c0d-ab5e-a5b959eab262"
      },
      "source": [
        "pred"
      ],
      "execution_count": null,
      "outputs": [
        {
          "output_type": "execute_result",
          "data": {
            "text/plain": [
              "array([[0.6747571 , 0.3252429 ],\n",
              "       [0.5147791 , 0.48522088],\n",
              "       [0.49031472, 0.5096853 ],\n",
              "       ...,\n",
              "       [0.4770081 , 0.5229919 ],\n",
              "       [0.51969516, 0.48030487],\n",
              "       [0.345882  , 0.654118  ]], dtype=float32)"
            ]
          },
          "metadata": {
            "tags": []
          },
          "execution_count": 281
        }
      ]
    },
    {
      "cell_type": "code",
      "metadata": {
        "id": "TwJ-vcuaMsMl"
      },
      "source": [
        "cnt=0\n",
        "for i in outcome:\n",
        "  cnt+=i"
      ],
      "execution_count": null,
      "outputs": []
    },
    {
      "cell_type": "code",
      "metadata": {
        "colab": {
          "base_uri": "https://localhost:8080/"
        },
        "id": "C7oH7iOoMuB2",
        "outputId": "a57b85f4-9407-4e69-d57a-c392e677b49c"
      },
      "source": [
        "cnt"
      ],
      "execution_count": null,
      "outputs": [
        {
          "output_type": "execute_result",
          "data": {
            "text/plain": [
              "19292"
            ]
          },
          "metadata": {
            "tags": []
          },
          "execution_count": 284
        }
      ]
    },
    {
      "cell_type": "code",
      "metadata": {
        "colab": {
          "base_uri": "https://localhost:8080/"
        },
        "id": "-Pr0ct-VM2-D",
        "outputId": "2f4421b0-e882-4849-c25a-351cbb4737fd"
      },
      "source": [
        "X_test.shape"
      ],
      "execution_count": null,
      "outputs": [
        {
          "output_type": "execute_result",
          "data": {
            "text/plain": [
              "(28000, 17)"
            ]
          },
          "metadata": {
            "tags": []
          },
          "execution_count": 285
        }
      ]
    },
    {
      "cell_type": "code",
      "metadata": {
        "id": "jJrFgEsLM6kY"
      },
      "source": [
        ""
      ],
      "execution_count": null,
      "outputs": []
    },
    {
      "cell_type": "code",
      "metadata": {
        "colab": {
          "base_uri": "https://localhost:8080/",
          "height": 583
        },
        "id": "XnpzmmLazMQB",
        "outputId": "a0f7c2a1-d6c9-492c-ee29-22b7bcc699ad"
      },
      "source": [
        "from sklearn.ensemble import RandomForestClassifier\n",
        "\n",
        "clf = RandomForestClassifier(random_state = 1)\n",
        "scores = cross_val_score(clf, X_train, Y_train, cv = 10)\n",
        "accuracy_rf = scores.mean()\n",
        "\n",
        "print(accuracy_rf)\n",
        "\n",
        "clf = RandomForestClassifier(random_state = 1)\n",
        "\n",
        "hyperparameters = {\n",
        "    'criterion': ['entropy', 'gini'],\n",
        "    'max_depth': [5, 10],\n",
        "    'max_features': ['log2', 'sqrt'],\n",
        "    'min_samples_leaf': [1, 5],\n",
        "    'min_samples_split': [3, 5],\n",
        "    'n_estimators': [6, 9]\n",
        "}\n",
        "\n",
        "grid = GridSearchCV(clf, param_grid = hyperparameters, cv = 10)\n",
        "grid.fit(all_X, all_y)\n"
      ],
      "execution_count": null,
      "outputs": [
        {
          "output_type": "stream",
          "text": [
            "/usr/local/lib/python3.7/dist-packages/sklearn/model_selection/_validation.py:515: DataConversionWarning: A column-vector y was passed when a 1d array was expected. Please change the shape of y to (n_samples,), for example using ravel().\n",
            "  estimator.fit(X_train, y_train, **fit_params)\n",
            "/usr/local/lib/python3.7/dist-packages/sklearn/model_selection/_validation.py:515: DataConversionWarning: A column-vector y was passed when a 1d array was expected. Please change the shape of y to (n_samples,), for example using ravel().\n",
            "  estimator.fit(X_train, y_train, **fit_params)\n",
            "/usr/local/lib/python3.7/dist-packages/sklearn/model_selection/_validation.py:515: DataConversionWarning: A column-vector y was passed when a 1d array was expected. Please change the shape of y to (n_samples,), for example using ravel().\n",
            "  estimator.fit(X_train, y_train, **fit_params)\n",
            "/usr/local/lib/python3.7/dist-packages/sklearn/model_selection/_validation.py:515: DataConversionWarning: A column-vector y was passed when a 1d array was expected. Please change the shape of y to (n_samples,), for example using ravel().\n",
            "  estimator.fit(X_train, y_train, **fit_params)\n",
            "/usr/local/lib/python3.7/dist-packages/sklearn/model_selection/_validation.py:515: DataConversionWarning: A column-vector y was passed when a 1d array was expected. Please change the shape of y to (n_samples,), for example using ravel().\n",
            "  estimator.fit(X_train, y_train, **fit_params)\n",
            "/usr/local/lib/python3.7/dist-packages/sklearn/model_selection/_validation.py:515: DataConversionWarning: A column-vector y was passed when a 1d array was expected. Please change the shape of y to (n_samples,), for example using ravel().\n",
            "  estimator.fit(X_train, y_train, **fit_params)\n",
            "/usr/local/lib/python3.7/dist-packages/sklearn/model_selection/_validation.py:515: DataConversionWarning: A column-vector y was passed when a 1d array was expected. Please change the shape of y to (n_samples,), for example using ravel().\n",
            "  estimator.fit(X_train, y_train, **fit_params)\n",
            "/usr/local/lib/python3.7/dist-packages/sklearn/model_selection/_validation.py:515: DataConversionWarning: A column-vector y was passed when a 1d array was expected. Please change the shape of y to (n_samples,), for example using ravel().\n",
            "  estimator.fit(X_train, y_train, **fit_params)\n",
            "/usr/local/lib/python3.7/dist-packages/sklearn/model_selection/_validation.py:515: DataConversionWarning: A column-vector y was passed when a 1d array was expected. Please change the shape of y to (n_samples,), for example using ravel().\n",
            "  estimator.fit(X_train, y_train, **fit_params)\n",
            "/usr/local/lib/python3.7/dist-packages/sklearn/model_selection/_validation.py:515: DataConversionWarning: A column-vector y was passed when a 1d array was expected. Please change the shape of y to (n_samples,), for example using ravel().\n",
            "  estimator.fit(X_train, y_train, **fit_params)\n"
          ],
          "name": "stderr"
        },
        {
          "output_type": "stream",
          "text": [
            "0.9009047619047619\n"
          ],
          "name": "stdout"
        },
        {
          "output_type": "error",
          "ename": "NameError",
          "evalue": "ignored",
          "traceback": [
            "\u001b[0;31m---------------------------------------------------------------------------\u001b[0m",
            "\u001b[0;31mNameError\u001b[0m                                 Traceback (most recent call last)",
            "\u001b[0;32m<ipython-input-313-7bcc86e83cd7>\u001b[0m in \u001b[0;36m<module>\u001b[0;34m()\u001b[0m\n\u001b[1;32m     18\u001b[0m }\n\u001b[1;32m     19\u001b[0m \u001b[0;34m\u001b[0m\u001b[0m\n\u001b[0;32m---> 20\u001b[0;31m \u001b[0mgrid\u001b[0m \u001b[0;34m=\u001b[0m \u001b[0mGridSearchCV\u001b[0m\u001b[0;34m(\u001b[0m\u001b[0mclf\u001b[0m\u001b[0;34m,\u001b[0m \u001b[0mparam_grid\u001b[0m \u001b[0;34m=\u001b[0m \u001b[0mhyperparameters\u001b[0m\u001b[0;34m,\u001b[0m \u001b[0mcv\u001b[0m \u001b[0;34m=\u001b[0m \u001b[0;36m10\u001b[0m\u001b[0;34m)\u001b[0m\u001b[0;34m\u001b[0m\u001b[0;34m\u001b[0m\u001b[0m\n\u001b[0m\u001b[1;32m     21\u001b[0m \u001b[0mgrid\u001b[0m\u001b[0;34m.\u001b[0m\u001b[0mfit\u001b[0m\u001b[0;34m(\u001b[0m\u001b[0mall_X\u001b[0m\u001b[0;34m,\u001b[0m \u001b[0mall_y\u001b[0m\u001b[0;34m)\u001b[0m\u001b[0;34m\u001b[0m\u001b[0;34m\u001b[0m\u001b[0m\n",
            "\u001b[0;31mNameError\u001b[0m: name 'GridSearchCV' is not defined"
          ]
        }
      ]
    },
    {
      "cell_type": "code",
      "metadata": {
        "id": "AOgsKGJ6zMrE"
      },
      "source": [
        "\n",
        "best_params = grid.best_params_\n",
        "best_score = grid.best_score_\n",
        "\n",
        "print(best_params)\n",
        "print(best_score)\n"
      ],
      "execution_count": null,
      "outputs": []
    },
    {
      "cell_type": "code",
      "metadata": {
        "colab": {
          "base_uri": "https://localhost:8080/"
        },
        "id": "dz0EvMlc0Eyf",
        "outputId": "5dce4619-a0ce-4236-fc5b-e4c861083a86"
      },
      "source": [
        "train[\"risk_flag\"].value_counts()"
      ],
      "execution_count": null,
      "outputs": [
        {
          "output_type": "execute_result",
          "data": {
            "text/plain": [
              "0    221004\n",
              "1     30996\n",
              "Name: risk_flag, dtype: int64"
            ]
          },
          "metadata": {
            "tags": []
          },
          "execution_count": 365
        }
      ]
    },
    {
      "cell_type": "code",
      "metadata": {
        "id": "V2dtozt6KjvF"
      },
      "source": [
        "from imblearn.over_sampling import SMOTE\n",
        "sm = SMOTE(k_neighbors=3, sampling_strategy=0.4, random_state=11)\n",
        "X_res, y_res = sm.fit_resample(X_train, Y_train)"
      ],
      "execution_count": null,
      "outputs": []
    },
    {
      "cell_type": "code",
      "metadata": {
        "colab": {
          "base_uri": "https://localhost:8080/"
        },
        "id": "BRp5WHMKLjzJ",
        "outputId": "5b75b7fa-acdc-4177-87b1-7aac0720487b"
      },
      "source": [
        "X_train.columns"
      ],
      "execution_count": null,
      "outputs": [
        {
          "output_type": "execute_result",
          "data": {
            "text/plain": [
              "Index(['income', 'age', 'experience', 'married', 'house_ownership',\n",
              "       'car_ownership', 'profession', 'city', 'state', 'current_job_years',\n",
              "       'current_house_years', 'Difference_b/t_exp_employee',\n",
              "       'current_job_years_mean', 'current_house_years_mean',\n",
              "       'Difference_b/t_age_house', 'income__mean', 'risk_flag_mean'],\n",
              "      dtype='object')"
            ]
          },
          "metadata": {
            "tags": []
          },
          "execution_count": 378
        }
      ]
    },
    {
      "cell_type": "code",
      "metadata": {
        "id": "Ju6ZQOXHLpYj"
      },
      "source": [
        "X_res = pd.DataFrame(X_res, columns = ['income', 'age', 'experience', 'married', 'house_ownership',\n",
        "       'car_ownership', 'profession', 'city', 'state', 'current_job_years',\n",
        "       'current_house_years', 'Difference_b/t_exp_employee',\n",
        "       'current_job_years_mean', 'current_house_years_mean',\n",
        "       'Difference_b/t_age_house', 'income__mean', 'risk_flag_mean'])\n"
      ],
      "execution_count": null,
      "outputs": []
    },
    {
      "cell_type": "code",
      "metadata": {
        "colab": {
          "base_uri": "https://localhost:8080/",
          "height": 424
        },
        "id": "hmIyHnZcLvXS",
        "outputId": "75f74c09-f83d-4b51-f248-546399d32fc2"
      },
      "source": [
        "X_res"
      ],
      "execution_count": null,
      "outputs": [
        {
          "output_type": "execute_result",
          "data": {
            "text/html": [
              "<div>\n",
              "<style scoped>\n",
              "    .dataframe tbody tr th:only-of-type {\n",
              "        vertical-align: middle;\n",
              "    }\n",
              "\n",
              "    .dataframe tbody tr th {\n",
              "        vertical-align: top;\n",
              "    }\n",
              "\n",
              "    .dataframe thead th {\n",
              "        text-align: right;\n",
              "    }\n",
              "</style>\n",
              "<table border=\"1\" class=\"dataframe\">\n",
              "  <thead>\n",
              "    <tr style=\"text-align: right;\">\n",
              "      <th></th>\n",
              "      <th>income</th>\n",
              "      <th>age</th>\n",
              "      <th>experience</th>\n",
              "      <th>married</th>\n",
              "      <th>house_ownership</th>\n",
              "      <th>car_ownership</th>\n",
              "      <th>profession</th>\n",
              "      <th>city</th>\n",
              "      <th>state</th>\n",
              "      <th>current_job_years</th>\n",
              "      <th>current_house_years</th>\n",
              "      <th>Difference_b/t_exp_employee</th>\n",
              "      <th>current_job_years_mean</th>\n",
              "      <th>current_house_years_mean</th>\n",
              "      <th>Difference_b/t_age_house</th>\n",
              "      <th>income__mean</th>\n",
              "      <th>risk_flag_mean</th>\n",
              "    </tr>\n",
              "  </thead>\n",
              "  <tbody>\n",
              "    <tr>\n",
              "      <th>0</th>\n",
              "      <td>14.080820</td>\n",
              "      <td>23.000000</td>\n",
              "      <td>3.000000</td>\n",
              "      <td>1.0</td>\n",
              "      <td>2.0</td>\n",
              "      <td>0.00000</td>\n",
              "      <td>46.0</td>\n",
              "      <td>181.00000</td>\n",
              "      <td>13.00000</td>\n",
              "      <td>3.00000</td>\n",
              "      <td>13.000000</td>\n",
              "      <td>0.000000</td>\n",
              "      <td>6.590715</td>\n",
              "      <td>12.012499</td>\n",
              "      <td>10.000000</td>\n",
              "      <td>0.717262</td>\n",
              "      <td>0.683572</td>\n",
              "    </tr>\n",
              "    <tr>\n",
              "      <th>1</th>\n",
              "      <td>15.840300</td>\n",
              "      <td>40.000000</td>\n",
              "      <td>10.000000</td>\n",
              "      <td>1.0</td>\n",
              "      <td>2.0</td>\n",
              "      <td>0.00000</td>\n",
              "      <td>60.0</td>\n",
              "      <td>152.00000</td>\n",
              "      <td>14.00000</td>\n",
              "      <td>9.00000</td>\n",
              "      <td>13.000000</td>\n",
              "      <td>1.000000</td>\n",
              "      <td>6.405502</td>\n",
              "      <td>11.935968</td>\n",
              "      <td>27.000000</td>\n",
              "      <td>0.717262</td>\n",
              "      <td>0.683572</td>\n",
              "    </tr>\n",
              "    <tr>\n",
              "      <th>2</th>\n",
              "      <td>15.199757</td>\n",
              "      <td>66.000000</td>\n",
              "      <td>4.000000</td>\n",
              "      <td>0.0</td>\n",
              "      <td>2.0</td>\n",
              "      <td>0.00000</td>\n",
              "      <td>65.0</td>\n",
              "      <td>310.00000</td>\n",
              "      <td>12.00000</td>\n",
              "      <td>4.00000</td>\n",
              "      <td>10.000000</td>\n",
              "      <td>0.000000</td>\n",
              "      <td>5.919110</td>\n",
              "      <td>12.071014</td>\n",
              "      <td>56.000000</td>\n",
              "      <td>0.717262</td>\n",
              "      <td>0.683572</td>\n",
              "    </tr>\n",
              "    <tr>\n",
              "      <th>3</th>\n",
              "      <td>15.649124</td>\n",
              "      <td>41.000000</td>\n",
              "      <td>2.000000</td>\n",
              "      <td>1.0</td>\n",
              "      <td>2.0</td>\n",
              "      <td>1.00000</td>\n",
              "      <td>60.0</td>\n",
              "      <td>282.00000</td>\n",
              "      <td>17.00000</td>\n",
              "      <td>2.00000</td>\n",
              "      <td>12.000000</td>\n",
              "      <td>0.000000</td>\n",
              "      <td>6.432401</td>\n",
              "      <td>12.014763</td>\n",
              "      <td>29.000000</td>\n",
              "      <td>0.307874</td>\n",
              "      <td>0.255936</td>\n",
              "    </tr>\n",
              "    <tr>\n",
              "      <th>4</th>\n",
              "      <td>15.567987</td>\n",
              "      <td>47.000000</td>\n",
              "      <td>11.000000</td>\n",
              "      <td>1.0</td>\n",
              "      <td>2.0</td>\n",
              "      <td>0.00000</td>\n",
              "      <td>10.0</td>\n",
              "      <td>237.00000</td>\n",
              "      <td>22.00000</td>\n",
              "      <td>3.00000</td>\n",
              "      <td>14.000000</td>\n",
              "      <td>8.000000</td>\n",
              "      <td>6.556627</td>\n",
              "      <td>11.987109</td>\n",
              "      <td>33.000000</td>\n",
              "      <td>0.717262</td>\n",
              "      <td>0.683572</td>\n",
              "    </tr>\n",
              "    <tr>\n",
              "      <th>...</th>\n",
              "      <td>...</td>\n",
              "      <td>...</td>\n",
              "      <td>...</td>\n",
              "      <td>...</td>\n",
              "      <td>...</td>\n",
              "      <td>...</td>\n",
              "      <td>...</td>\n",
              "      <td>...</td>\n",
              "      <td>...</td>\n",
              "      <td>...</td>\n",
              "      <td>...</td>\n",
              "      <td>...</td>\n",
              "      <td>...</td>\n",
              "      <td>...</td>\n",
              "      <td>...</td>\n",
              "      <td>...</td>\n",
              "      <td>...</td>\n",
              "    </tr>\n",
              "    <tr>\n",
              "      <th>309400</th>\n",
              "      <td>13.227597</td>\n",
              "      <td>31.000000</td>\n",
              "      <td>15.000000</td>\n",
              "      <td>1.0</td>\n",
              "      <td>2.0</td>\n",
              "      <td>1.00000</td>\n",
              "      <td>43.0</td>\n",
              "      <td>203.00000</td>\n",
              "      <td>20.00000</td>\n",
              "      <td>12.00000</td>\n",
              "      <td>11.000000</td>\n",
              "      <td>3.000000</td>\n",
              "      <td>6.570338</td>\n",
              "      <td>12.114537</td>\n",
              "      <td>20.000000</td>\n",
              "      <td>0.307874</td>\n",
              "      <td>0.255936</td>\n",
              "    </tr>\n",
              "    <tr>\n",
              "      <th>309401</th>\n",
              "      <td>14.249554</td>\n",
              "      <td>44.000000</td>\n",
              "      <td>7.000000</td>\n",
              "      <td>1.0</td>\n",
              "      <td>2.0</td>\n",
              "      <td>0.00000</td>\n",
              "      <td>21.0</td>\n",
              "      <td>19.00000</td>\n",
              "      <td>27.00000</td>\n",
              "      <td>5.00000</td>\n",
              "      <td>13.000000</td>\n",
              "      <td>2.000000</td>\n",
              "      <td>6.265723</td>\n",
              "      <td>11.973309</td>\n",
              "      <td>31.000000</td>\n",
              "      <td>0.717262</td>\n",
              "      <td>0.683572</td>\n",
              "    </tr>\n",
              "    <tr>\n",
              "      <th>309402</th>\n",
              "      <td>16.010627</td>\n",
              "      <td>57.000000</td>\n",
              "      <td>8.000000</td>\n",
              "      <td>1.0</td>\n",
              "      <td>2.0</td>\n",
              "      <td>1.00000</td>\n",
              "      <td>65.0</td>\n",
              "      <td>119.00000</td>\n",
              "      <td>11.00000</td>\n",
              "      <td>8.00000</td>\n",
              "      <td>12.000000</td>\n",
              "      <td>0.000000</td>\n",
              "      <td>6.086798</td>\n",
              "      <td>11.915334</td>\n",
              "      <td>45.000000</td>\n",
              "      <td>0.307874</td>\n",
              "      <td>0.255936</td>\n",
              "    </tr>\n",
              "    <tr>\n",
              "      <th>309403</th>\n",
              "      <td>15.736942</td>\n",
              "      <td>29.000000</td>\n",
              "      <td>20.000000</td>\n",
              "      <td>0.0</td>\n",
              "      <td>2.0</td>\n",
              "      <td>1.00000</td>\n",
              "      <td>58.0</td>\n",
              "      <td>170.00000</td>\n",
              "      <td>6.00000</td>\n",
              "      <td>3.00000</td>\n",
              "      <td>14.000000</td>\n",
              "      <td>17.000000</td>\n",
              "      <td>6.419856</td>\n",
              "      <td>11.997711</td>\n",
              "      <td>15.000000</td>\n",
              "      <td>0.307874</td>\n",
              "      <td>0.255936</td>\n",
              "    </tr>\n",
              "    <tr>\n",
              "      <th>309404</th>\n",
              "      <td>10.703298</td>\n",
              "      <td>22.489562</td>\n",
              "      <td>6.986083</td>\n",
              "      <td>1.0</td>\n",
              "      <td>2.0</td>\n",
              "      <td>0.24826</td>\n",
              "      <td>27.0</td>\n",
              "      <td>296.24826</td>\n",
              "      <td>2.24826</td>\n",
              "      <td>4.75174</td>\n",
              "      <td>13.255219</td>\n",
              "      <td>2.234344</td>\n",
              "      <td>6.300938</td>\n",
              "      <td>12.087323</td>\n",
              "      <td>9.234344</td>\n",
              "      <td>0.615627</td>\n",
              "      <td>0.577407</td>\n",
              "    </tr>\n",
              "  </tbody>\n",
              "</table>\n",
              "<p>309405 rows × 17 columns</p>\n",
              "</div>"
            ],
            "text/plain": [
              "           income        age  ...  income__mean  risk_flag_mean\n",
              "0       14.080820  23.000000  ...      0.717262        0.683572\n",
              "1       15.840300  40.000000  ...      0.717262        0.683572\n",
              "2       15.199757  66.000000  ...      0.717262        0.683572\n",
              "3       15.649124  41.000000  ...      0.307874        0.255936\n",
              "4       15.567987  47.000000  ...      0.717262        0.683572\n",
              "...           ...        ...  ...           ...             ...\n",
              "309400  13.227597  31.000000  ...      0.307874        0.255936\n",
              "309401  14.249554  44.000000  ...      0.717262        0.683572\n",
              "309402  16.010627  57.000000  ...      0.307874        0.255936\n",
              "309403  15.736942  29.000000  ...      0.307874        0.255936\n",
              "309404  10.703298  22.489562  ...      0.615627        0.577407\n",
              "\n",
              "[309405 rows x 17 columns]"
            ]
          },
          "metadata": {
            "tags": []
          },
          "execution_count": 380
        }
      ]
    },
    {
      "cell_type": "code",
      "metadata": {
        "colab": {
          "base_uri": "https://localhost:8080/"
        },
        "id": "12V5DI0f0FiV",
        "outputId": "35f87545-d932-4ce7-aa5f-79d5ea44ab90"
      },
      "source": [
        "cnt=0\n",
        "for i in y_res:\n",
        "  cnt+=i\n",
        "print(cnt)"
      ],
      "execution_count": null,
      "outputs": [
        {
          "output_type": "stream",
          "text": [
            "88401\n"
          ],
          "name": "stdout"
        }
      ]
    },
    {
      "cell_type": "code",
      "metadata": {
        "colab": {
          "base_uri": "https://localhost:8080/"
        },
        "id": "qL5bffNqLCjw",
        "outputId": "7f7a3530-a5c0-4313-b513-a2859a0e4ace"
      },
      "source": [
        "X_res.shape"
      ],
      "execution_count": null,
      "outputs": [
        {
          "output_type": "execute_result",
          "data": {
            "text/plain": [
              "(309405, 17)"
            ]
          },
          "metadata": {
            "tags": []
          },
          "execution_count": 376
        }
      ]
    },
    {
      "cell_type": "markdown",
      "metadata": {
        "id": "d3QxVf0L0GQx"
      },
      "source": [
        ""
      ]
    },
    {
      "cell_type": "code",
      "metadata": {
        "id": "iHIPRWMs0IVO"
      },
      "source": [
        "from lightgbm import LGBMClassifier\n",
        "from lightgbm import LGBMClassifier\n",
        "from sklearn.model_selection import StratifiedKFold,train_test_split\n",
        "from sklearn.linear_model import LogisticRegression\n",
        "from xgboost import XGBClassifier\n",
        "from sklearn.ensemble import RandomForestClassifier\n",
        "from sklearn.metrics import accuracy_score,confusion_matrix,roc_auc_score\n"
      ],
      "execution_count": null,
      "outputs": []
    },
    {
      "cell_type": "code",
      "metadata": {
        "colab": {
          "base_uri": "https://localhost:8080/"
        },
        "id": "M9LqkD_p0G4X",
        "outputId": "473e4755-7749-40f2-9080-2b1b7abf8574"
      },
      "source": [
        "err=[]\n",
        "feature_importance_df = pd.DataFrame()\n",
        "y_pred_tot=[]\n",
        "test_p=[]\n",
        "train_p=[]\n",
        "from sklearn.model_selection import KFold,StratifiedKFold\n",
        "fold=StratifiedKFold(n_splits=10,shuffle=True,random_state=1994) #15 is best\n",
        "i=1\n",
        "for train_index, test_index in fold.split(X_res,y_res):\n",
        "    X_train1, X_test1 = X_res.iloc[train_index], X_res.iloc[test_index]\n",
        "    y_train1, y_test1 = y_res[train_index], y_res[test_index]\n",
        "    m=LGBMClassifier(n_estimators=4500,random_state=1994,learning_rate=0.02,objective='binary',nthread= 3,scale_pos_weight=1,num_leaves=20,min_split_gain=0.3,\n",
        "                 subsample_for_bin=20000,subsample=0.9,reg_alpha=10,reg_lambda=50,colsample_bytree=0.5)\n",
        "    m.fit(X_train1,y_train1,eval_set=[(X_train1,y_train1),(X_test1, y_test1)],eval_metric='auc', early_stopping_rounds=200,verbose=200)\n",
        "    \n",
        "    preds=m.predict_proba(X_test1,num_iteration=m.best_iteration_)[:,-1]\n",
        "#     tpreds=m.predict_proba(X_train,num_iteration=m.best_iteration_)[:,-1]\n",
        "    \n",
        "    print(\"err: \",roc_auc_score(y_test1,preds))\n",
        "    err.append(roc_auc_score(y_test1,preds))\n",
        "#     train_p.append(tpreds)\n",
        "#     test_p.append(preds)\n",
        "    p = m.predict_proba(X_test)[:,-1]\n",
        "    i=i+1\n",
        "    y_pred_tot.append(p)"
      ],
      "execution_count": null,
      "outputs": [
        {
          "output_type": "stream",
          "text": [
            "Training until validation scores don't improve for 200 rounds.\n",
            "[200]\ttraining's auc: 0.77062\ttraining's binary_logloss: 0.525982\tvalid_1's auc: 0.763156\tvalid_1's binary_logloss: 0.527301\n",
            "[400]\ttraining's auc: 0.829062\ttraining's binary_logloss: 0.497451\tvalid_1's auc: 0.820548\tvalid_1's binary_logloss: 0.499883\n",
            "[600]\ttraining's auc: 0.864715\ttraining's binary_logloss: 0.473819\tvalid_1's auc: 0.855913\tvalid_1's binary_logloss: 0.477104\n",
            "[800]\ttraining's auc: 0.887372\ttraining's binary_logloss: 0.454167\tvalid_1's auc: 0.878754\tvalid_1's binary_logloss: 0.458142\n",
            "[1000]\ttraining's auc: 0.902562\ttraining's binary_logloss: 0.436729\tvalid_1's auc: 0.894505\tvalid_1's binary_logloss: 0.441037\n",
            "[1200]\ttraining's auc: 0.913689\ttraining's binary_logloss: 0.421485\tvalid_1's auc: 0.906592\tvalid_1's binary_logloss: 0.425958\n",
            "[1400]\ttraining's auc: 0.920725\ttraining's binary_logloss: 0.408303\tvalid_1's auc: 0.913868\tvalid_1's binary_logloss: 0.413007\n",
            "[1600]\ttraining's auc: 0.92673\ttraining's binary_logloss: 0.395604\tvalid_1's auc: 0.920312\tvalid_1's binary_logloss: 0.400532\n",
            "[1800]\ttraining's auc: 0.931166\ttraining's binary_logloss: 0.383482\tvalid_1's auc: 0.924966\tvalid_1's binary_logloss: 0.388641\n",
            "[2000]\ttraining's auc: 0.934451\ttraining's binary_logloss: 0.372335\tvalid_1's auc: 0.928469\tvalid_1's binary_logloss: 0.377701\n",
            "[2200]\ttraining's auc: 0.937026\ttraining's binary_logloss: 0.362343\tvalid_1's auc: 0.931141\tvalid_1's binary_logloss: 0.367913\n",
            "[2400]\ttraining's auc: 0.939212\ttraining's binary_logloss: 0.352693\tvalid_1's auc: 0.933473\tvalid_1's binary_logloss: 0.358422\n",
            "[2600]\ttraining's auc: 0.940891\ttraining's binary_logloss: 0.344008\tvalid_1's auc: 0.935246\tvalid_1's binary_logloss: 0.349873\n",
            "[2800]\ttraining's auc: 0.94215\ttraining's binary_logloss: 0.336469\tvalid_1's auc: 0.936509\tvalid_1's binary_logloss: 0.342527\n",
            "[3000]\ttraining's auc: 0.943207\ttraining's binary_logloss: 0.32957\tvalid_1's auc: 0.937623\tvalid_1's binary_logloss: 0.335734\n",
            "[3200]\ttraining's auc: 0.944065\ttraining's binary_logloss: 0.323128\tvalid_1's auc: 0.938516\tvalid_1's binary_logloss: 0.329363\n",
            "[3400]\ttraining's auc: 0.944835\ttraining's binary_logloss: 0.317272\tvalid_1's auc: 0.939296\tvalid_1's binary_logloss: 0.323558\n",
            "[3600]\ttraining's auc: 0.945449\ttraining's binary_logloss: 0.312039\tvalid_1's auc: 0.939762\tvalid_1's binary_logloss: 0.318513\n",
            "[3800]\ttraining's auc: 0.94614\ttraining's binary_logloss: 0.306873\tvalid_1's auc: 0.940427\tvalid_1's binary_logloss: 0.313358\n",
            "[4000]\ttraining's auc: 0.946706\ttraining's binary_logloss: 0.301879\tvalid_1's auc: 0.940897\tvalid_1's binary_logloss: 0.308432\n",
            "[4200]\ttraining's auc: 0.947247\ttraining's binary_logloss: 0.297348\tvalid_1's auc: 0.941363\tvalid_1's binary_logloss: 0.303918\n",
            "[4400]\ttraining's auc: 0.947775\ttraining's binary_logloss: 0.293154\tvalid_1's auc: 0.941817\tvalid_1's binary_logloss: 0.299778\n",
            "Did not meet early stopping. Best iteration is:\n",
            "[4500]\ttraining's auc: 0.948058\ttraining's binary_logloss: 0.291096\tvalid_1's auc: 0.942041\tvalid_1's binary_logloss: 0.297773\n",
            "err:  0.942040817956068\n",
            "Training until validation scores don't improve for 200 rounds.\n",
            "[200]\ttraining's auc: 0.771383\ttraining's binary_logloss: 0.526218\tvalid_1's auc: 0.765549\tvalid_1's binary_logloss: 0.527589\n",
            "[400]\ttraining's auc: 0.827308\ttraining's binary_logloss: 0.498414\tvalid_1's auc: 0.821732\tvalid_1's binary_logloss: 0.500344\n",
            "[600]\ttraining's auc: 0.86557\ttraining's binary_logloss: 0.474892\tvalid_1's auc: 0.86035\tvalid_1's binary_logloss: 0.477366\n",
            "[800]\ttraining's auc: 0.889188\ttraining's binary_logloss: 0.454031\tvalid_1's auc: 0.884652\tvalid_1's binary_logloss: 0.456926\n",
            "[1000]\ttraining's auc: 0.905115\ttraining's binary_logloss: 0.435513\tvalid_1's auc: 0.900843\tvalid_1's binary_logloss: 0.438825\n",
            "[1200]\ttraining's auc: 0.915286\ttraining's binary_logloss: 0.419524\tvalid_1's auc: 0.911303\tvalid_1's binary_logloss: 0.42309\n",
            "[1400]\ttraining's auc: 0.922016\ttraining's binary_logloss: 0.405847\tvalid_1's auc: 0.918024\tvalid_1's binary_logloss: 0.409825\n",
            "[1600]\ttraining's auc: 0.927625\ttraining's binary_logloss: 0.392414\tvalid_1's auc: 0.923579\tvalid_1's binary_logloss: 0.396639\n",
            "[1800]\ttraining's auc: 0.931465\ttraining's binary_logloss: 0.381157\tvalid_1's auc: 0.927489\tvalid_1's binary_logloss: 0.385497\n",
            "[2000]\ttraining's auc: 0.934569\ttraining's binary_logloss: 0.370413\tvalid_1's auc: 0.930433\tvalid_1's binary_logloss: 0.375116\n",
            "[2200]\ttraining's auc: 0.936925\ttraining's binary_logloss: 0.36081\tvalid_1's auc: 0.932864\tvalid_1's binary_logloss: 0.365724\n",
            "[2400]\ttraining's auc: 0.938815\ttraining's binary_logloss: 0.352643\tvalid_1's auc: 0.934625\tvalid_1's binary_logloss: 0.357801\n",
            "[2600]\ttraining's auc: 0.940332\ttraining's binary_logloss: 0.344922\tvalid_1's auc: 0.936098\tvalid_1's binary_logloss: 0.350316\n",
            "[2800]\ttraining's auc: 0.941406\ttraining's binary_logloss: 0.33803\tvalid_1's auc: 0.937193\tvalid_1's binary_logloss: 0.343537\n",
            "[3000]\ttraining's auc: 0.942476\ttraining's binary_logloss: 0.331183\tvalid_1's auc: 0.938259\tvalid_1's binary_logloss: 0.336841\n",
            "[3200]\ttraining's auc: 0.94355\ttraining's binary_logloss: 0.324428\tvalid_1's auc: 0.939261\tvalid_1's binary_logloss: 0.330287\n",
            "[3400]\ttraining's auc: 0.944464\ttraining's binary_logloss: 0.318103\tvalid_1's auc: 0.940053\tvalid_1's binary_logloss: 0.324103\n",
            "[3600]\ttraining's auc: 0.945292\ttraining's binary_logloss: 0.312269\tvalid_1's auc: 0.940935\tvalid_1's binary_logloss: 0.318305\n",
            "[3800]\ttraining's auc: 0.946017\ttraining's binary_logloss: 0.306729\tvalid_1's auc: 0.941558\tvalid_1's binary_logloss: 0.312905\n",
            "[4000]\ttraining's auc: 0.946656\ttraining's binary_logloss: 0.301561\tvalid_1's auc: 0.942157\tvalid_1's binary_logloss: 0.307865\n",
            "[4200]\ttraining's auc: 0.947213\ttraining's binary_logloss: 0.296942\tvalid_1's auc: 0.942534\tvalid_1's binary_logloss: 0.303495\n",
            "[4400]\ttraining's auc: 0.947665\ttraining's binary_logloss: 0.293116\tvalid_1's auc: 0.94293\tvalid_1's binary_logloss: 0.299746\n",
            "Did not meet early stopping. Best iteration is:\n",
            "[4500]\ttraining's auc: 0.947924\ttraining's binary_logloss: 0.291052\tvalid_1's auc: 0.943152\tvalid_1's binary_logloss: 0.297746\n",
            "err:  0.943152216039855\n",
            "Training until validation scores don't improve for 200 rounds.\n",
            "[200]\ttraining's auc: 0.771538\ttraining's binary_logloss: 0.525707\tvalid_1's auc: 0.762016\tvalid_1's binary_logloss: 0.527031\n",
            "[400]\ttraining's auc: 0.828545\ttraining's binary_logloss: 0.496874\tvalid_1's auc: 0.817766\tvalid_1's binary_logloss: 0.499521\n",
            "[600]\ttraining's auc: 0.864944\ttraining's binary_logloss: 0.473191\tvalid_1's auc: 0.854644\tvalid_1's binary_logloss: 0.476643\n",
            "[800]\ttraining's auc: 0.888289\ttraining's binary_logloss: 0.452816\tvalid_1's auc: 0.878783\tvalid_1's binary_logloss: 0.45675\n",
            "[1000]\ttraining's auc: 0.90439\ttraining's binary_logloss: 0.434173\tvalid_1's auc: 0.895741\tvalid_1's binary_logloss: 0.438579\n",
            "[1200]\ttraining's auc: 0.915445\ttraining's binary_logloss: 0.418232\tvalid_1's auc: 0.907604\tvalid_1's binary_logloss: 0.422931\n",
            "[1400]\ttraining's auc: 0.92348\ttraining's binary_logloss: 0.403039\tvalid_1's auc: 0.915953\tvalid_1's binary_logloss: 0.408083\n",
            "[1600]\ttraining's auc: 0.928225\ttraining's binary_logloss: 0.390938\tvalid_1's auc: 0.920959\tvalid_1's binary_logloss: 0.396319\n",
            "[1800]\ttraining's auc: 0.932373\ttraining's binary_logloss: 0.379508\tvalid_1's auc: 0.925208\tvalid_1's binary_logloss: 0.385233\n",
            "[2000]\ttraining's auc: 0.935155\ttraining's binary_logloss: 0.369513\tvalid_1's auc: 0.92809\tvalid_1's binary_logloss: 0.375528\n",
            "[2200]\ttraining's auc: 0.937193\ttraining's binary_logloss: 0.36064\tvalid_1's auc: 0.93005\tvalid_1's binary_logloss: 0.36704\n",
            "[2400]\ttraining's auc: 0.938945\ttraining's binary_logloss: 0.352541\tvalid_1's auc: 0.931888\tvalid_1's binary_logloss: 0.359182\n",
            "[2600]\ttraining's auc: 0.940436\ttraining's binary_logloss: 0.344668\tvalid_1's auc: 0.933382\tvalid_1's binary_logloss: 0.351633\n",
            "[2800]\ttraining's auc: 0.941779\ttraining's binary_logloss: 0.336869\tvalid_1's auc: 0.934679\tvalid_1's binary_logloss: 0.344233\n",
            "[3000]\ttraining's auc: 0.942899\ttraining's binary_logloss: 0.329645\tvalid_1's auc: 0.935858\tvalid_1's binary_logloss: 0.337222\n",
            "[3200]\ttraining's auc: 0.943895\ttraining's binary_logloss: 0.322944\tvalid_1's auc: 0.936781\tvalid_1's binary_logloss: 0.330773\n",
            "[3400]\ttraining's auc: 0.944899\ttraining's binary_logloss: 0.316434\tvalid_1's auc: 0.937762\tvalid_1's binary_logloss: 0.324375\n",
            "[3600]\ttraining's auc: 0.945712\ttraining's binary_logloss: 0.310464\tvalid_1's auc: 0.938501\tvalid_1's binary_logloss: 0.318634\n",
            "[3800]\ttraining's auc: 0.946246\ttraining's binary_logloss: 0.30577\tvalid_1's auc: 0.939077\tvalid_1's binary_logloss: 0.313978\n",
            "[4000]\ttraining's auc: 0.946835\ttraining's binary_logloss: 0.301271\tvalid_1's auc: 0.939591\tvalid_1's binary_logloss: 0.309613\n",
            "[4200]\ttraining's auc: 0.947309\ttraining's binary_logloss: 0.297326\tvalid_1's auc: 0.940051\tvalid_1's binary_logloss: 0.305757\n",
            "[4400]\ttraining's auc: 0.947836\ttraining's binary_logloss: 0.293251\tvalid_1's auc: 0.940557\tvalid_1's binary_logloss: 0.301819\n",
            "Did not meet early stopping. Best iteration is:\n",
            "[4500]\ttraining's auc: 0.948127\ttraining's binary_logloss: 0.290989\tvalid_1's auc: 0.940834\tvalid_1's binary_logloss: 0.299591\n",
            "err:  0.9408340279027525\n",
            "Training until validation scores don't improve for 200 rounds.\n",
            "[200]\ttraining's auc: 0.771352\ttraining's binary_logloss: 0.525912\tvalid_1's auc: 0.767723\tvalid_1's binary_logloss: 0.52772\n",
            "[400]\ttraining's auc: 0.829482\ttraining's binary_logloss: 0.497299\tvalid_1's auc: 0.823959\tvalid_1's binary_logloss: 0.500289\n",
            "[600]\ttraining's auc: 0.867009\ttraining's binary_logloss: 0.473096\tvalid_1's auc: 0.860342\tvalid_1's binary_logloss: 0.476921\n",
            "[800]\ttraining's auc: 0.88975\ttraining's binary_logloss: 0.452776\tvalid_1's auc: 0.882637\tvalid_1's binary_logloss: 0.457325\n",
            "[1000]\ttraining's auc: 0.905002\ttraining's binary_logloss: 0.434863\tvalid_1's auc: 0.897785\tvalid_1's binary_logloss: 0.440026\n",
            "[1200]\ttraining's auc: 0.914562\ttraining's binary_logloss: 0.420288\tvalid_1's auc: 0.907176\tvalid_1's binary_logloss: 0.42595\n",
            "[1400]\ttraining's auc: 0.920968\ttraining's binary_logloss: 0.407247\tvalid_1's auc: 0.913686\tvalid_1's binary_logloss: 0.413326\n",
            "[1600]\ttraining's auc: 0.926393\ttraining's binary_logloss: 0.394483\tvalid_1's auc: 0.918984\tvalid_1's binary_logloss: 0.400966\n",
            "[1800]\ttraining's auc: 0.930632\ttraining's binary_logloss: 0.382846\tvalid_1's auc: 0.923506\tvalid_1's binary_logloss: 0.389494\n",
            "[2000]\ttraining's auc: 0.934034\ttraining's binary_logloss: 0.372207\tvalid_1's auc: 0.927075\tvalid_1's binary_logloss: 0.379026\n",
            "[2200]\ttraining's auc: 0.936504\ttraining's binary_logloss: 0.36243\tvalid_1's auc: 0.929489\tvalid_1's binary_logloss: 0.369653\n",
            "[2400]\ttraining's auc: 0.938337\ttraining's binary_logloss: 0.35378\tvalid_1's auc: 0.931246\tvalid_1's binary_logloss: 0.361297\n",
            "[2600]\ttraining's auc: 0.939928\ttraining's binary_logloss: 0.345904\tvalid_1's auc: 0.932899\tvalid_1's binary_logloss: 0.353629\n",
            "[2800]\ttraining's auc: 0.941226\ttraining's binary_logloss: 0.338492\tvalid_1's auc: 0.934157\tvalid_1's binary_logloss: 0.346431\n",
            "[3000]\ttraining's auc: 0.942251\ttraining's binary_logloss: 0.331759\tvalid_1's auc: 0.935064\tvalid_1's binary_logloss: 0.34\n",
            "[3200]\ttraining's auc: 0.943429\ttraining's binary_logloss: 0.324597\tvalid_1's auc: 0.936274\tvalid_1's binary_logloss: 0.333053\n",
            "[3400]\ttraining's auc: 0.944449\ttraining's binary_logloss: 0.318119\tvalid_1's auc: 0.937196\tvalid_1's binary_logloss: 0.32678\n",
            "[3600]\ttraining's auc: 0.945282\ttraining's binary_logloss: 0.312576\tvalid_1's auc: 0.937883\tvalid_1's binary_logloss: 0.321469\n",
            "[3800]\ttraining's auc: 0.945959\ttraining's binary_logloss: 0.307258\tvalid_1's auc: 0.938512\tvalid_1's binary_logloss: 0.316308\n",
            "[4000]\ttraining's auc: 0.946565\ttraining's binary_logloss: 0.302361\tvalid_1's auc: 0.939108\tvalid_1's binary_logloss: 0.31152\n",
            "[4200]\ttraining's auc: 0.947217\ttraining's binary_logloss: 0.297694\tvalid_1's auc: 0.939566\tvalid_1's binary_logloss: 0.307067\n",
            "[4400]\ttraining's auc: 0.947729\ttraining's binary_logloss: 0.293397\tvalid_1's auc: 0.939926\tvalid_1's binary_logloss: 0.303039\n",
            "Did not meet early stopping. Best iteration is:\n",
            "[4499]\ttraining's auc: 0.94803\ttraining's binary_logloss: 0.291193\tvalid_1's auc: 0.940208\tvalid_1's binary_logloss: 0.30094\n",
            "err:  0.940207625583986\n",
            "Training until validation scores don't improve for 200 rounds.\n",
            "[200]\ttraining's auc: 0.770989\ttraining's binary_logloss: 0.52593\tvalid_1's auc: 0.767802\tvalid_1's binary_logloss: 0.527733\n",
            "[400]\ttraining's auc: 0.828984\ttraining's binary_logloss: 0.497763\tvalid_1's auc: 0.827293\tvalid_1's binary_logloss: 0.499402\n",
            "[600]\ttraining's auc: 0.863799\ttraining's binary_logloss: 0.474813\tvalid_1's auc: 0.861866\tvalid_1's binary_logloss: 0.476616\n",
            "[800]\ttraining's auc: 0.887396\ttraining's binary_logloss: 0.453513\tvalid_1's auc: 0.885312\tvalid_1's binary_logloss: 0.455592\n",
            "[1000]\ttraining's auc: 0.903498\ttraining's binary_logloss: 0.435418\tvalid_1's auc: 0.900712\tvalid_1's binary_logloss: 0.437847\n",
            "[1200]\ttraining's auc: 0.914235\ttraining's binary_logloss: 0.419582\tvalid_1's auc: 0.910903\tvalid_1's binary_logloss: 0.422396\n",
            "[1400]\ttraining's auc: 0.921143\ttraining's binary_logloss: 0.405184\tvalid_1's auc: 0.917364\tvalid_1's binary_logloss: 0.408299\n",
            "[1600]\ttraining's auc: 0.927023\ttraining's binary_logloss: 0.392142\tvalid_1's auc: 0.923058\tvalid_1's binary_logloss: 0.39559\n",
            "[1800]\ttraining's auc: 0.931628\ttraining's binary_logloss: 0.380273\tvalid_1's auc: 0.927415\tvalid_1's binary_logloss: 0.384179\n",
            "[2000]\ttraining's auc: 0.934671\ttraining's binary_logloss: 0.369891\tvalid_1's auc: 0.93006\tvalid_1's binary_logloss: 0.374256\n",
            "[2200]\ttraining's auc: 0.936922\ttraining's binary_logloss: 0.360754\tvalid_1's auc: 0.932025\tvalid_1's binary_logloss: 0.365441\n",
            "[2400]\ttraining's auc: 0.938427\ttraining's binary_logloss: 0.352913\tvalid_1's auc: 0.933374\tvalid_1's binary_logloss: 0.357899\n",
            "[2600]\ttraining's auc: 0.94002\ttraining's binary_logloss: 0.344738\tvalid_1's auc: 0.934944\tvalid_1's binary_logloss: 0.349939\n",
            "[2800]\ttraining's auc: 0.941496\ttraining's binary_logloss: 0.336735\tvalid_1's auc: 0.936342\tvalid_1's binary_logloss: 0.342216\n",
            "[3000]\ttraining's auc: 0.942781\ttraining's binary_logloss: 0.329255\tvalid_1's auc: 0.937568\tvalid_1's binary_logloss: 0.334896\n",
            "[3200]\ttraining's auc: 0.943762\ttraining's binary_logloss: 0.322814\tvalid_1's auc: 0.938451\tvalid_1's binary_logloss: 0.328697\n",
            "[3400]\ttraining's auc: 0.944668\ttraining's binary_logloss: 0.316406\tvalid_1's auc: 0.939228\tvalid_1's binary_logloss: 0.322535\n",
            "[3600]\ttraining's auc: 0.945408\ttraining's binary_logloss: 0.310723\tvalid_1's auc: 0.939729\tvalid_1's binary_logloss: 0.317125\n",
            "[3800]\ttraining's auc: 0.946057\ttraining's binary_logloss: 0.305822\tvalid_1's auc: 0.940458\tvalid_1's binary_logloss: 0.31226\n",
            "[4000]\ttraining's auc: 0.946557\ttraining's binary_logloss: 0.301474\tvalid_1's auc: 0.940838\tvalid_1's binary_logloss: 0.308133\n",
            "[4200]\ttraining's auc: 0.947092\ttraining's binary_logloss: 0.29709\tvalid_1's auc: 0.941263\tvalid_1's binary_logloss: 0.303899\n",
            "[4400]\ttraining's auc: 0.947675\ttraining's binary_logloss: 0.292796\tvalid_1's auc: 0.941705\tvalid_1's binary_logloss: 0.299783\n",
            "Did not meet early stopping. Best iteration is:\n",
            "[4500]\ttraining's auc: 0.947914\ttraining's binary_logloss: 0.290923\tvalid_1's auc: 0.941834\tvalid_1's binary_logloss: 0.298027\n",
            "err:  0.9418335106745054\n",
            "Training until validation scores don't improve for 200 rounds.\n",
            "[200]\ttraining's auc: 0.771198\ttraining's binary_logloss: 0.5267\tvalid_1's auc: 0.774939\tvalid_1's binary_logloss: 0.525104\n",
            "[400]\ttraining's auc: 0.828096\ttraining's binary_logloss: 0.49824\tvalid_1's auc: 0.83067\tvalid_1's binary_logloss: 0.496887\n",
            "[600]\ttraining's auc: 0.864242\ttraining's binary_logloss: 0.475236\tvalid_1's auc: 0.866044\tvalid_1's binary_logloss: 0.474172\n",
            "[800]\ttraining's auc: 0.888365\ttraining's binary_logloss: 0.455442\tvalid_1's auc: 0.889585\tvalid_1's binary_logloss: 0.454443\n",
            "[1000]\ttraining's auc: 0.903357\ttraining's binary_logloss: 0.437765\tvalid_1's auc: 0.904278\tvalid_1's binary_logloss: 0.436816\n",
            "[1200]\ttraining's auc: 0.913585\ttraining's binary_logloss: 0.421759\tvalid_1's auc: 0.914268\tvalid_1's binary_logloss: 0.420934\n",
            "[1400]\ttraining's auc: 0.921333\ttraining's binary_logloss: 0.407055\tvalid_1's auc: 0.921936\tvalid_1's binary_logloss: 0.406395\n",
            "[1600]\ttraining's auc: 0.926591\ttraining's binary_logloss: 0.394254\tvalid_1's auc: 0.927491\tvalid_1's binary_logloss: 0.393578\n",
            "[1800]\ttraining's auc: 0.931107\ttraining's binary_logloss: 0.381723\tvalid_1's auc: 0.932172\tvalid_1's binary_logloss: 0.381004\n",
            "[2000]\ttraining's auc: 0.934037\ttraining's binary_logloss: 0.371389\tvalid_1's auc: 0.935012\tvalid_1's binary_logloss: 0.370741\n",
            "[2200]\ttraining's auc: 0.936422\ttraining's binary_logloss: 0.361854\tvalid_1's auc: 0.937333\tvalid_1's binary_logloss: 0.361241\n",
            "[2400]\ttraining's auc: 0.938549\ttraining's binary_logloss: 0.352653\tvalid_1's auc: 0.939467\tvalid_1's binary_logloss: 0.352033\n",
            "[2600]\ttraining's auc: 0.94007\ttraining's binary_logloss: 0.344693\tvalid_1's auc: 0.940827\tvalid_1's binary_logloss: 0.344159\n",
            "[2800]\ttraining's auc: 0.941121\ttraining's binary_logloss: 0.33788\tvalid_1's auc: 0.941864\tvalid_1's binary_logloss: 0.337297\n",
            "[3000]\ttraining's auc: 0.942077\ttraining's binary_logloss: 0.33122\tvalid_1's auc: 0.942804\tvalid_1's binary_logloss: 0.330605\n",
            "[3200]\ttraining's auc: 0.94315\ttraining's binary_logloss: 0.324224\tvalid_1's auc: 0.943719\tvalid_1's binary_logloss: 0.323707\n",
            "[3400]\ttraining's auc: 0.943977\ttraining's binary_logloss: 0.318296\tvalid_1's auc: 0.944398\tvalid_1's binary_logloss: 0.317829\n",
            "[3600]\ttraining's auc: 0.944699\ttraining's binary_logloss: 0.312778\tvalid_1's auc: 0.945105\tvalid_1's binary_logloss: 0.312209\n",
            "[3800]\ttraining's auc: 0.945351\ttraining's binary_logloss: 0.307592\tvalid_1's auc: 0.945699\tvalid_1's binary_logloss: 0.306997\n",
            "[4000]\ttraining's auc: 0.945919\ttraining's binary_logloss: 0.302752\tvalid_1's auc: 0.946231\tvalid_1's binary_logloss: 0.30211\n",
            "[4200]\ttraining's auc: 0.946536\ttraining's binary_logloss: 0.298194\tvalid_1's auc: 0.946753\tvalid_1's binary_logloss: 0.29758\n",
            "[4400]\ttraining's auc: 0.947022\ttraining's binary_logloss: 0.294259\tvalid_1's auc: 0.94712\tvalid_1's binary_logloss: 0.293679\n",
            "Did not meet early stopping. Best iteration is:\n",
            "[4500]\ttraining's auc: 0.947274\ttraining's binary_logloss: 0.292333\tvalid_1's auc: 0.947347\tvalid_1's binary_logloss: 0.291742\n",
            "err:  0.9473470470506338\n",
            "Training until validation scores don't improve for 200 rounds.\n",
            "[200]\ttraining's auc: 0.769555\ttraining's binary_logloss: 0.525869\tvalid_1's auc: 0.764771\tvalid_1's binary_logloss: 0.527444\n",
            "[400]\ttraining's auc: 0.829723\ttraining's binary_logloss: 0.497003\tvalid_1's auc: 0.824601\tvalid_1's binary_logloss: 0.498855\n",
            "[600]\ttraining's auc: 0.865564\ttraining's binary_logloss: 0.473289\tvalid_1's auc: 0.860395\tvalid_1's binary_logloss: 0.475592\n",
            "[800]\ttraining's auc: 0.890993\ttraining's binary_logloss: 0.451476\tvalid_1's auc: 0.886526\tvalid_1's binary_logloss: 0.45396\n",
            "[1000]\ttraining's auc: 0.906811\ttraining's binary_logloss: 0.433787\tvalid_1's auc: 0.903516\tvalid_1's binary_logloss: 0.436369\n",
            "[1200]\ttraining's auc: 0.916121\ttraining's binary_logloss: 0.418321\tvalid_1's auc: 0.912987\tvalid_1's binary_logloss: 0.42132\n",
            "[1400]\ttraining's auc: 0.923087\ttraining's binary_logloss: 0.403933\tvalid_1's auc: 0.920025\tvalid_1's binary_logloss: 0.407277\n",
            "[1600]\ttraining's auc: 0.927945\ttraining's binary_logloss: 0.391702\tvalid_1's auc: 0.925263\tvalid_1's binary_logloss: 0.395165\n",
            "[1800]\ttraining's auc: 0.93185\ttraining's binary_logloss: 0.380517\tvalid_1's auc: 0.929413\tvalid_1's binary_logloss: 0.384123\n",
            "[2000]\ttraining's auc: 0.934974\ttraining's binary_logloss: 0.369834\tvalid_1's auc: 0.932901\tvalid_1's binary_logloss: 0.373416\n",
            "[2200]\ttraining's auc: 0.937433\ttraining's binary_logloss: 0.359684\tvalid_1's auc: 0.935351\tvalid_1's binary_logloss: 0.3634\n",
            "[2400]\ttraining's auc: 0.939163\ttraining's binary_logloss: 0.351172\tvalid_1's auc: 0.937145\tvalid_1's binary_logloss: 0.354998\n",
            "[2600]\ttraining's auc: 0.940695\ttraining's binary_logloss: 0.343064\tvalid_1's auc: 0.938645\tvalid_1's binary_logloss: 0.347016\n",
            "[2800]\ttraining's auc: 0.941845\ttraining's binary_logloss: 0.336029\tvalid_1's auc: 0.939689\tvalid_1's binary_logloss: 0.340219\n",
            "[3000]\ttraining's auc: 0.943011\ttraining's binary_logloss: 0.328856\tvalid_1's auc: 0.940897\tvalid_1's binary_logloss: 0.333045\n",
            "[3200]\ttraining's auc: 0.943847\ttraining's binary_logloss: 0.322735\tvalid_1's auc: 0.94163\tvalid_1's binary_logloss: 0.326946\n",
            "[3400]\ttraining's auc: 0.944734\ttraining's binary_logloss: 0.31638\tvalid_1's auc: 0.942471\tvalid_1's binary_logloss: 0.320624\n",
            "[3600]\ttraining's auc: 0.945468\ttraining's binary_logloss: 0.310939\tvalid_1's auc: 0.943138\tvalid_1's binary_logloss: 0.315227\n",
            "[3800]\ttraining's auc: 0.9461\ttraining's binary_logloss: 0.3059\tvalid_1's auc: 0.943693\tvalid_1's binary_logloss: 0.31033\n",
            "[4000]\ttraining's auc: 0.946638\ttraining's binary_logloss: 0.301419\tvalid_1's auc: 0.944082\tvalid_1's binary_logloss: 0.305997\n",
            "[4200]\ttraining's auc: 0.947211\ttraining's binary_logloss: 0.296727\tvalid_1's auc: 0.944499\tvalid_1's binary_logloss: 0.301441\n",
            "[4400]\ttraining's auc: 0.947706\ttraining's binary_logloss: 0.292769\tvalid_1's auc: 0.944878\tvalid_1's binary_logloss: 0.297572\n",
            "Did not meet early stopping. Best iteration is:\n",
            "[4499]\ttraining's auc: 0.947967\ttraining's binary_logloss: 0.290734\tvalid_1's auc: 0.945099\tvalid_1's binary_logloss: 0.295538\n",
            "err:  0.9450994093077537\n",
            "Training until validation scores don't improve for 200 rounds.\n",
            "[200]\ttraining's auc: 0.771348\ttraining's binary_logloss: 0.525874\tvalid_1's auc: 0.762516\tvalid_1's binary_logloss: 0.528704\n",
            "[400]\ttraining's auc: 0.827542\ttraining's binary_logloss: 0.497281\tvalid_1's auc: 0.819276\tvalid_1's binary_logloss: 0.500735\n",
            "[600]\ttraining's auc: 0.864026\ttraining's binary_logloss: 0.473741\tvalid_1's auc: 0.856331\tvalid_1's binary_logloss: 0.47757\n",
            "[800]\ttraining's auc: 0.888646\ttraining's binary_logloss: 0.452892\tvalid_1's auc: 0.88149\tvalid_1's binary_logloss: 0.457223\n",
            "[1000]\ttraining's auc: 0.905449\ttraining's binary_logloss: 0.434119\tvalid_1's auc: 0.899121\tvalid_1's binary_logloss: 0.438777\n",
            "[1200]\ttraining's auc: 0.915308\ttraining's binary_logloss: 0.418839\tvalid_1's auc: 0.909445\tvalid_1's binary_logloss: 0.423782\n",
            "[1400]\ttraining's auc: 0.922564\ttraining's binary_logloss: 0.404852\tvalid_1's auc: 0.916858\tvalid_1's binary_logloss: 0.410124\n",
            "[1600]\ttraining's auc: 0.928194\ttraining's binary_logloss: 0.392057\tvalid_1's auc: 0.922455\tvalid_1's binary_logloss: 0.397778\n",
            "[1800]\ttraining's auc: 0.932356\ttraining's binary_logloss: 0.380268\tvalid_1's auc: 0.926689\tvalid_1's binary_logloss: 0.386398\n",
            "[2000]\ttraining's auc: 0.93529\ttraining's binary_logloss: 0.370137\tvalid_1's auc: 0.929886\tvalid_1's binary_logloss: 0.376449\n",
            "[2200]\ttraining's auc: 0.937691\ttraining's binary_logloss: 0.360498\tvalid_1's auc: 0.932401\tvalid_1's binary_logloss: 0.367083\n",
            "[2400]\ttraining's auc: 0.939567\ttraining's binary_logloss: 0.351372\tvalid_1's auc: 0.934317\tvalid_1's binary_logloss: 0.358099\n",
            "[2600]\ttraining's auc: 0.941138\ttraining's binary_logloss: 0.343027\tvalid_1's auc: 0.935893\tvalid_1's binary_logloss: 0.349937\n",
            "[2800]\ttraining's auc: 0.942362\ttraining's binary_logloss: 0.335677\tvalid_1's auc: 0.936987\tvalid_1's binary_logloss: 0.342833\n",
            "[3000]\ttraining's auc: 0.943335\ttraining's binary_logloss: 0.329164\tvalid_1's auc: 0.937777\tvalid_1's binary_logloss: 0.336516\n",
            "[3200]\ttraining's auc: 0.944417\ttraining's binary_logloss: 0.322581\tvalid_1's auc: 0.938829\tvalid_1's binary_logloss: 0.32999\n",
            "[3400]\ttraining's auc: 0.945171\ttraining's binary_logloss: 0.316587\tvalid_1's auc: 0.939547\tvalid_1's binary_logloss: 0.324086\n",
            "[3600]\ttraining's auc: 0.945913\ttraining's binary_logloss: 0.310963\tvalid_1's auc: 0.940201\tvalid_1's binary_logloss: 0.318527\n",
            "[3800]\ttraining's auc: 0.946522\ttraining's binary_logloss: 0.305814\tvalid_1's auc: 0.940687\tvalid_1's binary_logloss: 0.313517\n",
            "[4000]\ttraining's auc: 0.947173\ttraining's binary_logloss: 0.300802\tvalid_1's auc: 0.941158\tvalid_1's binary_logloss: 0.308692\n",
            "[4200]\ttraining's auc: 0.947739\ttraining's binary_logloss: 0.296213\tvalid_1's auc: 0.941527\tvalid_1's binary_logloss: 0.30426\n",
            "[4400]\ttraining's auc: 0.948245\ttraining's binary_logloss: 0.292007\tvalid_1's auc: 0.941848\tvalid_1's binary_logloss: 0.30031\n",
            "Did not meet early stopping. Best iteration is:\n",
            "[4500]\ttraining's auc: 0.948509\ttraining's binary_logloss: 0.289992\tvalid_1's auc: 0.94208\tvalid_1's binary_logloss: 0.298333\n",
            "err:  0.9420797255379703\n",
            "Training until validation scores don't improve for 200 rounds.\n",
            "[200]\ttraining's auc: 0.769853\ttraining's binary_logloss: 0.526089\tvalid_1's auc: 0.766765\tvalid_1's binary_logloss: 0.526906\n",
            "[400]\ttraining's auc: 0.83007\ttraining's binary_logloss: 0.496992\tvalid_1's auc: 0.825506\tvalid_1's binary_logloss: 0.498421\n",
            "[600]\ttraining's auc: 0.865629\ttraining's binary_logloss: 0.472961\tvalid_1's auc: 0.860439\tvalid_1's binary_logloss: 0.474888\n",
            "[800]\ttraining's auc: 0.889137\ttraining's binary_logloss: 0.453063\tvalid_1's auc: 0.883645\tvalid_1's binary_logloss: 0.455597\n",
            "[1000]\ttraining's auc: 0.904516\ttraining's binary_logloss: 0.435023\tvalid_1's auc: 0.899313\tvalid_1's binary_logloss: 0.438044\n",
            "[1200]\ttraining's auc: 0.915644\ttraining's binary_logloss: 0.417847\tvalid_1's auc: 0.910492\tvalid_1's binary_logloss: 0.421347\n",
            "[1400]\ttraining's auc: 0.922521\ttraining's binary_logloss: 0.404297\tvalid_1's auc: 0.917481\tvalid_1's binary_logloss: 0.408056\n",
            "[1600]\ttraining's auc: 0.927814\ttraining's binary_logloss: 0.39141\tvalid_1's auc: 0.922875\tvalid_1's binary_logloss: 0.395517\n",
            "[1800]\ttraining's auc: 0.931933\ttraining's binary_logloss: 0.379654\tvalid_1's auc: 0.926852\tvalid_1's binary_logloss: 0.384271\n",
            "[2000]\ttraining's auc: 0.934862\ttraining's binary_logloss: 0.369611\tvalid_1's auc: 0.92979\tvalid_1's binary_logloss: 0.374604\n",
            "[2200]\ttraining's auc: 0.937253\ttraining's binary_logloss: 0.359867\tvalid_1's auc: 0.932044\tvalid_1's binary_logloss: 0.365194\n",
            "[2400]\ttraining's auc: 0.939124\ttraining's binary_logloss: 0.351156\tvalid_1's auc: 0.933787\tvalid_1's binary_logloss: 0.35682\n",
            "[2600]\ttraining's auc: 0.940646\ttraining's binary_logloss: 0.343417\tvalid_1's auc: 0.935202\tvalid_1's binary_logloss: 0.349395\n",
            "[2800]\ttraining's auc: 0.94185\ttraining's binary_logloss: 0.336233\tvalid_1's auc: 0.936414\tvalid_1's binary_logloss: 0.342448\n",
            "[3000]\ttraining's auc: 0.942971\ttraining's binary_logloss: 0.329347\tvalid_1's auc: 0.937355\tvalid_1's binary_logloss: 0.335893\n",
            "[3200]\ttraining's auc: 0.9439\ttraining's binary_logloss: 0.322804\tvalid_1's auc: 0.938205\tvalid_1's binary_logloss: 0.329539\n",
            "[3400]\ttraining's auc: 0.94475\ttraining's binary_logloss: 0.316766\tvalid_1's auc: 0.938951\tvalid_1's binary_logloss: 0.323757\n",
            "[3600]\ttraining's auc: 0.945325\ttraining's binary_logloss: 0.311705\tvalid_1's auc: 0.939437\tvalid_1's binary_logloss: 0.318886\n",
            "[3800]\ttraining's auc: 0.945888\ttraining's binary_logloss: 0.30716\tvalid_1's auc: 0.939828\tvalid_1's binary_logloss: 0.314538\n",
            "[4000]\ttraining's auc: 0.946465\ttraining's binary_logloss: 0.302587\tvalid_1's auc: 0.940236\tvalid_1's binary_logloss: 0.310126\n",
            "[4200]\ttraining's auc: 0.946997\ttraining's binary_logloss: 0.298221\tvalid_1's auc: 0.94065\tvalid_1's binary_logloss: 0.305947\n",
            "[4400]\ttraining's auc: 0.947505\ttraining's binary_logloss: 0.294047\tvalid_1's auc: 0.941005\tvalid_1's binary_logloss: 0.302005\n",
            "Did not meet early stopping. Best iteration is:\n",
            "[4499]\ttraining's auc: 0.94774\ttraining's binary_logloss: 0.292173\tvalid_1's auc: 0.941112\tvalid_1's binary_logloss: 0.300266\n",
            "err:  0.9411124004422514\n",
            "Training until validation scores don't improve for 200 rounds.\n",
            "[200]\ttraining's auc: 0.771914\ttraining's binary_logloss: 0.525848\tvalid_1's auc: 0.772802\tvalid_1's binary_logloss: 0.524981\n",
            "[400]\ttraining's auc: 0.830001\ttraining's binary_logloss: 0.49751\tvalid_1's auc: 0.829051\tvalid_1's binary_logloss: 0.497127\n",
            "[600]\ttraining's auc: 0.865038\ttraining's binary_logloss: 0.473769\tvalid_1's auc: 0.862762\tvalid_1's binary_logloss: 0.474082\n",
            "[800]\ttraining's auc: 0.88794\ttraining's binary_logloss: 0.453091\tvalid_1's auc: 0.88501\tvalid_1's binary_logloss: 0.454306\n",
            "[1000]\ttraining's auc: 0.905305\ttraining's binary_logloss: 0.43391\tvalid_1's auc: 0.901959\tvalid_1's binary_logloss: 0.435813\n",
            "[1200]\ttraining's auc: 0.916278\ttraining's binary_logloss: 0.417331\tvalid_1's auc: 0.912634\tvalid_1's binary_logloss: 0.419676\n",
            "[1400]\ttraining's auc: 0.92309\ttraining's binary_logloss: 0.403065\tvalid_1's auc: 0.919269\tvalid_1's binary_logloss: 0.405837\n",
            "[1600]\ttraining's auc: 0.928494\ttraining's binary_logloss: 0.389962\tvalid_1's auc: 0.924442\tvalid_1's binary_logloss: 0.393136\n",
            "[1800]\ttraining's auc: 0.932632\ttraining's binary_logloss: 0.37797\tvalid_1's auc: 0.928296\tvalid_1's binary_logloss: 0.381584\n",
            "[2000]\ttraining's auc: 0.935774\ttraining's binary_logloss: 0.367554\tvalid_1's auc: 0.931375\tvalid_1's binary_logloss: 0.371438\n",
            "[2200]\ttraining's auc: 0.938174\ttraining's binary_logloss: 0.357523\tvalid_1's auc: 0.93355\tvalid_1's binary_logloss: 0.361754\n",
            "[2400]\ttraining's auc: 0.940032\ttraining's binary_logloss: 0.348331\tvalid_1's auc: 0.935188\tvalid_1's binary_logloss: 0.352932\n",
            "[2600]\ttraining's auc: 0.941238\ttraining's binary_logloss: 0.341008\tvalid_1's auc: 0.936268\tvalid_1's binary_logloss: 0.345908\n",
            "[2800]\ttraining's auc: 0.942309\ttraining's binary_logloss: 0.334096\tvalid_1's auc: 0.937274\tvalid_1's binary_logloss: 0.339203\n",
            "[3000]\ttraining's auc: 0.943293\ttraining's binary_logloss: 0.327715\tvalid_1's auc: 0.938184\tvalid_1's binary_logloss: 0.332962\n",
            "[3200]\ttraining's auc: 0.944184\ttraining's binary_logloss: 0.321733\tvalid_1's auc: 0.938956\tvalid_1's binary_logloss: 0.327304\n",
            "[3400]\ttraining's auc: 0.94489\ttraining's binary_logloss: 0.316035\tvalid_1's auc: 0.939505\tvalid_1's binary_logloss: 0.321849\n",
            "[3600]\ttraining's auc: 0.945566\ttraining's binary_logloss: 0.310781\tvalid_1's auc: 0.940046\tvalid_1's binary_logloss: 0.31679\n",
            "[3800]\ttraining's auc: 0.946219\ttraining's binary_logloss: 0.305905\tvalid_1's auc: 0.940531\tvalid_1's binary_logloss: 0.312182\n",
            "[4000]\ttraining's auc: 0.946821\ttraining's binary_logloss: 0.301207\tvalid_1's auc: 0.941001\tvalid_1's binary_logloss: 0.307703\n",
            "[4200]\ttraining's auc: 0.947168\ttraining's binary_logloss: 0.297741\tvalid_1's auc: 0.941275\tvalid_1's binary_logloss: 0.304383\n",
            "[4400]\ttraining's auc: 0.947644\ttraining's binary_logloss: 0.293751\tvalid_1's auc: 0.941642\tvalid_1's binary_logloss: 0.300558\n",
            "Did not meet early stopping. Best iteration is:\n",
            "[4499]\ttraining's auc: 0.947938\ttraining's binary_logloss: 0.291687\tvalid_1's auc: 0.941845\tvalid_1's binary_logloss: 0.298591\n",
            "err:  0.9418450123871338\n"
          ],
          "name": "stdout"
        }
      ]
    },
    {
      "cell_type": "code",
      "metadata": {
        "colab": {
          "base_uri": "https://localhost:8080/"
        },
        "id": "xrqN7ybG_HHK",
        "outputId": "8ea03918-86e8-484a-ddc8-bd3ab2a09588"
      },
      "source": [
        "np.mean(err)\n"
      ],
      "execution_count": null,
      "outputs": [
        {
          "output_type": "execute_result",
          "data": {
            "text/plain": [
              "0.942555179288291"
            ]
          },
          "metadata": {
            "tags": []
          },
          "execution_count": 382
        }
      ]
    },
    {
      "cell_type": "code",
      "metadata": {
        "id": "59172xbq--9t"
      },
      "source": [
        "ans=np.mean(y_pred_tot,0)\n"
      ],
      "execution_count": null,
      "outputs": []
    },
    {
      "cell_type": "code",
      "metadata": {
        "colab": {
          "base_uri": "https://localhost:8080/"
        },
        "id": "NYXyB0tWZlPp",
        "outputId": "fc7d2027-56aa-4211-8e3e-99f258396efa"
      },
      "source": [
        "ans"
      ],
      "execution_count": null,
      "outputs": [
        {
          "output_type": "execute_result",
          "data": {
            "text/plain": [
              "array([0.05613336, 0.10345843, 0.12608417, ..., 0.06363672, 0.25297506,\n",
              "       0.50916745])"
            ]
          },
          "metadata": {
            "tags": []
          },
          "execution_count": 384
        }
      ]
    },
    {
      "cell_type": "code",
      "metadata": {
        "colab": {
          "base_uri": "https://localhost:8080/"
        },
        "id": "3A-w6QBQI6-o",
        "outputId": "6990054b-87af-49fc-8d20-96ea9ce7a366"
      },
      "source": [
        "np.mean(y_pred_tot,0)\n"
      ],
      "execution_count": null,
      "outputs": [
        {
          "output_type": "execute_result",
          "data": {
            "text/plain": [
              "array([0.05740507, 0.09698623, 0.07729082, ..., 0.05344999, 0.13733122,\n",
              "       0.28406569])"
            ]
          },
          "metadata": {
            "tags": []
          },
          "execution_count": 355
        }
      ]
    },
    {
      "cell_type": "code",
      "metadata": {
        "colab": {
          "base_uri": "https://localhost:8080/"
        },
        "id": "plX79QI3_23m",
        "outputId": "8c306036-8bf3-4842-c68a-4f248318097a"
      },
      "source": [
        "B=np.where(ans >= 0.5, 1, 0)\n",
        "B"
      ],
      "execution_count": null,
      "outputs": [
        {
          "output_type": "execute_result",
          "data": {
            "text/plain": [
              "array([0, 0, 0, ..., 0, 0, 1])"
            ]
          },
          "metadata": {
            "tags": []
          },
          "execution_count": 388
        }
      ]
    },
    {
      "cell_type": "code",
      "metadata": {
        "id": "tqC1x5pVVJ9t"
      },
      "source": [
        "test_copy['risk_flag']=B"
      ],
      "execution_count": null,
      "outputs": []
    },
    {
      "cell_type": "code",
      "metadata": {
        "colab": {
          "base_uri": "https://localhost:8080/"
        },
        "id": "6jo80zOHBmAa",
        "outputId": "10b6b59c-4ef7-440b-fe61-ff4034dcf033"
      },
      "source": [
        "test_copy['risk_flag'].value_counts()"
      ],
      "execution_count": null,
      "outputs": [
        {
          "output_type": "execute_result",
          "data": {
            "text/plain": [
              "0    24529\n",
              "1     3471\n",
              "Name: risk_flag, dtype: int64"
            ]
          },
          "metadata": {
            "tags": []
          },
          "execution_count": 392
        }
      ]
    },
    {
      "cell_type": "code",
      "metadata": {
        "colab": {
          "base_uri": "https://localhost:8080/",
          "height": 508
        },
        "id": "2mVmW99yJfYW",
        "outputId": "a11f6ea9-466f-4a46-b1b6-b88ffda23645"
      },
      "source": [
        "test_copy"
      ],
      "execution_count": null,
      "outputs": [
        {
          "output_type": "execute_result",
          "data": {
            "text/html": [
              "<div>\n",
              "<style scoped>\n",
              "    .dataframe tbody tr th:only-of-type {\n",
              "        vertical-align: middle;\n",
              "    }\n",
              "\n",
              "    .dataframe tbody tr th {\n",
              "        vertical-align: top;\n",
              "    }\n",
              "\n",
              "    .dataframe thead th {\n",
              "        text-align: right;\n",
              "    }\n",
              "</style>\n",
              "<table border=\"1\" class=\"dataframe\">\n",
              "  <thead>\n",
              "    <tr style=\"text-align: right;\">\n",
              "      <th></th>\n",
              "      <th>id</th>\n",
              "      <th>income</th>\n",
              "      <th>age</th>\n",
              "      <th>experience</th>\n",
              "      <th>married</th>\n",
              "      <th>house_ownership</th>\n",
              "      <th>car_ownership</th>\n",
              "      <th>profession</th>\n",
              "      <th>city</th>\n",
              "      <th>state</th>\n",
              "      <th>current_job_years</th>\n",
              "      <th>current_house_years</th>\n",
              "      <th>risk_flag</th>\n",
              "    </tr>\n",
              "  </thead>\n",
              "  <tbody>\n",
              "    <tr>\n",
              "      <th>0</th>\n",
              "      <td>1</td>\n",
              "      <td>7393090</td>\n",
              "      <td>59</td>\n",
              "      <td>19</td>\n",
              "      <td>single</td>\n",
              "      <td>rented</td>\n",
              "      <td>no</td>\n",
              "      <td>Geologist</td>\n",
              "      <td>Malda</td>\n",
              "      <td>West Bengal</td>\n",
              "      <td>4</td>\n",
              "      <td>13</td>\n",
              "      <td>0</td>\n",
              "    </tr>\n",
              "    <tr>\n",
              "      <th>1</th>\n",
              "      <td>2</td>\n",
              "      <td>1215004</td>\n",
              "      <td>25</td>\n",
              "      <td>5</td>\n",
              "      <td>single</td>\n",
              "      <td>rented</td>\n",
              "      <td>no</td>\n",
              "      <td>Firefighter</td>\n",
              "      <td>Jalna</td>\n",
              "      <td>Maharashtra</td>\n",
              "      <td>5</td>\n",
              "      <td>10</td>\n",
              "      <td>0</td>\n",
              "    </tr>\n",
              "    <tr>\n",
              "      <th>2</th>\n",
              "      <td>3</td>\n",
              "      <td>8901342</td>\n",
              "      <td>50</td>\n",
              "      <td>12</td>\n",
              "      <td>single</td>\n",
              "      <td>rented</td>\n",
              "      <td>no</td>\n",
              "      <td>Lawyer</td>\n",
              "      <td>Thane</td>\n",
              "      <td>Maharashtra</td>\n",
              "      <td>9</td>\n",
              "      <td>14</td>\n",
              "      <td>0</td>\n",
              "    </tr>\n",
              "    <tr>\n",
              "      <th>3</th>\n",
              "      <td>4</td>\n",
              "      <td>1944421</td>\n",
              "      <td>49</td>\n",
              "      <td>9</td>\n",
              "      <td>married</td>\n",
              "      <td>rented</td>\n",
              "      <td>yes</td>\n",
              "      <td>Analyst</td>\n",
              "      <td>Latur</td>\n",
              "      <td>Maharashtra</td>\n",
              "      <td>3</td>\n",
              "      <td>12</td>\n",
              "      <td>0</td>\n",
              "    </tr>\n",
              "    <tr>\n",
              "      <th>4</th>\n",
              "      <td>5</td>\n",
              "      <td>13429</td>\n",
              "      <td>25</td>\n",
              "      <td>18</td>\n",
              "      <td>single</td>\n",
              "      <td>rented</td>\n",
              "      <td>yes</td>\n",
              "      <td>Comedian</td>\n",
              "      <td>Berhampore</td>\n",
              "      <td>West Bengal</td>\n",
              "      <td>13</td>\n",
              "      <td>11</td>\n",
              "      <td>0</td>\n",
              "    </tr>\n",
              "    <tr>\n",
              "      <th>...</th>\n",
              "      <td>...</td>\n",
              "      <td>...</td>\n",
              "      <td>...</td>\n",
              "      <td>...</td>\n",
              "      <td>...</td>\n",
              "      <td>...</td>\n",
              "      <td>...</td>\n",
              "      <td>...</td>\n",
              "      <td>...</td>\n",
              "      <td>...</td>\n",
              "      <td>...</td>\n",
              "      <td>...</td>\n",
              "      <td>...</td>\n",
              "    </tr>\n",
              "    <tr>\n",
              "      <th>27995</th>\n",
              "      <td>27996</td>\n",
              "      <td>9955481</td>\n",
              "      <td>57</td>\n",
              "      <td>13</td>\n",
              "      <td>single</td>\n",
              "      <td>rented</td>\n",
              "      <td>no</td>\n",
              "      <td>Statistician</td>\n",
              "      <td>Eluru[25]</td>\n",
              "      <td>Andhra Pradesh</td>\n",
              "      <td>5</td>\n",
              "      <td>10</td>\n",
              "      <td>0</td>\n",
              "    </tr>\n",
              "    <tr>\n",
              "      <th>27996</th>\n",
              "      <td>27997</td>\n",
              "      <td>2917765</td>\n",
              "      <td>47</td>\n",
              "      <td>9</td>\n",
              "      <td>single</td>\n",
              "      <td>rented</td>\n",
              "      <td>no</td>\n",
              "      <td>Technical writer</td>\n",
              "      <td>Ratlam</td>\n",
              "      <td>Madhya Pradesh</td>\n",
              "      <td>9</td>\n",
              "      <td>14</td>\n",
              "      <td>0</td>\n",
              "    </tr>\n",
              "    <tr>\n",
              "      <th>27997</th>\n",
              "      <td>27998</td>\n",
              "      <td>8082415</td>\n",
              "      <td>24</td>\n",
              "      <td>5</td>\n",
              "      <td>single</td>\n",
              "      <td>rented</td>\n",
              "      <td>no</td>\n",
              "      <td>Lawyer</td>\n",
              "      <td>Mira-Bhayandar</td>\n",
              "      <td>Maharashtra</td>\n",
              "      <td>4</td>\n",
              "      <td>13</td>\n",
              "      <td>0</td>\n",
              "    </tr>\n",
              "    <tr>\n",
              "      <th>27998</th>\n",
              "      <td>27999</td>\n",
              "      <td>9474180</td>\n",
              "      <td>51</td>\n",
              "      <td>13</td>\n",
              "      <td>single</td>\n",
              "      <td>rented</td>\n",
              "      <td>yes</td>\n",
              "      <td>Chartered Accountant</td>\n",
              "      <td>Bhilai</td>\n",
              "      <td>Chhattisgarh</td>\n",
              "      <td>13</td>\n",
              "      <td>14</td>\n",
              "      <td>0</td>\n",
              "    </tr>\n",
              "    <tr>\n",
              "      <th>27999</th>\n",
              "      <td>28000</td>\n",
              "      <td>9250350</td>\n",
              "      <td>42</td>\n",
              "      <td>9</td>\n",
              "      <td>single</td>\n",
              "      <td>rented</td>\n",
              "      <td>no</td>\n",
              "      <td>Chef</td>\n",
              "      <td>Navi Mumbai</td>\n",
              "      <td>Maharashtra</td>\n",
              "      <td>4</td>\n",
              "      <td>10</td>\n",
              "      <td>1</td>\n",
              "    </tr>\n",
              "  </tbody>\n",
              "</table>\n",
              "<p>28000 rows × 13 columns</p>\n",
              "</div>"
            ],
            "text/plain": [
              "          id   income  age  ...  current_job_years current_house_years risk_flag\n",
              "0          1  7393090   59  ...                  4                  13         0\n",
              "1          2  1215004   25  ...                  5                  10         0\n",
              "2          3  8901342   50  ...                  9                  14         0\n",
              "3          4  1944421   49  ...                  3                  12         0\n",
              "4          5    13429   25  ...                 13                  11         0\n",
              "...      ...      ...  ...  ...                ...                 ...       ...\n",
              "27995  27996  9955481   57  ...                  5                  10         0\n",
              "27996  27997  2917765   47  ...                  9                  14         0\n",
              "27997  27998  8082415   24  ...                  4                  13         0\n",
              "27998  27999  9474180   51  ...                 13                  14         0\n",
              "27999  28000  9250350   42  ...                  4                  10         1\n",
              "\n",
              "[28000 rows x 13 columns]"
            ]
          },
          "metadata": {
            "tags": []
          },
          "execution_count": 391
        }
      ]
    },
    {
      "cell_type": "code",
      "metadata": {
        "id": "oiA0qI-WBx0P"
      },
      "source": [
        "test_copy[['id','risk_flag']].to_csv('Univ.ai_Submission_3.csv',index=False)"
      ],
      "execution_count": null,
      "outputs": []
    },
    {
      "cell_type": "code",
      "metadata": {
        "colab": {
          "base_uri": "https://localhost:8080/"
        },
        "id": "NzO1N2HAAMd5",
        "outputId": "75a20bda-24a0-4b65-d4eb-514b72d697b3"
      },
      "source": [
        "cnt=0\n",
        "for i in B:\n",
        "  cnt+=i\n",
        "cnt"
      ],
      "execution_count": null,
      "outputs": [
        {
          "output_type": "execute_result",
          "data": {
            "text/plain": [
              "224"
            ]
          },
          "metadata": {
            "tags": []
          },
          "execution_count": 336
        }
      ]
    },
    {
      "cell_type": "code",
      "metadata": {
        "id": "CJd97yMm_3NF"
      },
      "source": [
        ""
      ],
      "execution_count": null,
      "outputs": []
    },
    {
      "cell_type": "code",
      "metadata": {
        "id": "IeIU-vuvAwp_"
      },
      "source": [
        "m=LGBMClassifier(n_estimators=2500,random_state=1994,learning_rate=0.02,objective='binary',nthread= 3,scale_pos_weight=1,num_leaves=20,min_split_gain=0.3,\n",
        "                 subsample_for_bin=20000,subsample=0.9,reg_alpha=10,reg_lambda=50,colsample_bytree=0.5)\n",
        "# m=RidgeCV(cv=4)\n",
        "m.fit(X_train,Y_train,eval_set=[(X_train,Y_train)],eval_metric='auc', early_stopping_rounds=200,verbose=200)\n"
      ],
      "execution_count": null,
      "outputs": []
    },
    {
      "cell_type": "code",
      "metadata": {
        "colab": {
          "base_uri": "https://localhost:8080/"
        },
        "id": "u6LlUyJxEWTT",
        "outputId": "54e3a43e-3a14-4414-f35f-868f8dddef87"
      },
      "source": [
        "p=m.predict_proba(X_train)[:,-1]\n",
        "\n",
        "print(roc_auc_score(Y_train,p))\n"
      ],
      "execution_count": null,
      "outputs": [
        {
          "output_type": "stream",
          "text": [
            "0.8886383162806286\n"
          ],
          "name": "stdout"
        }
      ]
    },
    {
      "cell_type": "code",
      "metadata": {
        "id": "4G-GTZv-DN3N"
      },
      "source": [
        "import matplotlib.pyplot as plt\n",
        "import warnings\n",
        "import seaborn as sns\n",
        "sns.set_style('darkgrid')\n",
        "warnings.filterwarnings('ignore')\n",
        "\n",
        "%matplotlib inline\n",
        "feature_imp = pd.DataFrame(sorted(zip(m.feature_importances_, X_train.columns), reverse=True)[:300], \n",
        "                           columns=['Value','Feature'])\n",
        "plt.figure(figsize=(12,8))\n",
        "sns.barplot(x=\"Value\", y=\"Feature\", data=feature_imp.sort_values(by=\"Value\", ascending=False))\n",
        "plt.title('LightGBM Features')\n",
        "plt.tight_layout()\n",
        "plt.show()"
      ],
      "execution_count": null,
      "outputs": []
    },
    {
      "cell_type": "code",
      "metadata": {
        "id": "1Q3hs32bE2YO"
      },
      "source": [
        ""
      ],
      "execution_count": null,
      "outputs": []
    },
    {
      "cell_type": "code",
      "metadata": {
        "id": "e2bH96ssF2M7"
      },
      "source": [
        ""
      ],
      "execution_count": null,
      "outputs": []
    },
    {
      "cell_type": "code",
      "metadata": {
        "id": "zLZ2X9__F2I6"
      },
      "source": [
        ""
      ],
      "execution_count": null,
      "outputs": []
    },
    {
      "cell_type": "code",
      "metadata": {
        "id": "CMXDZ1yWF2F5"
      },
      "source": [
        ""
      ],
      "execution_count": null,
      "outputs": []
    },
    {
      "cell_type": "code",
      "metadata": {
        "id": "Dp8QedlxF2EI"
      },
      "source": [
        ""
      ],
      "execution_count": null,
      "outputs": []
    },
    {
      "cell_type": "code",
      "metadata": {
        "colab": {
          "base_uri": "https://localhost:8080/",
          "height": 704
        },
        "id": "1vONrd7BF180",
        "outputId": "89cf32e5-4542-43c7-de66-1f914ab6ac1a"
      },
      "source": [
        "from xgboost import XGBClassifier\n",
        "\n",
        "errxgb=[]\n",
        "y_pred_tot_xgb=[]\n",
        "from sklearn.model_selection import KFold,StratifiedKFold\n",
        "fold=StratifiedKFold(n_splits=10,shuffle=True,random_state=1994)\n",
        "i=1\n",
        "for train_index, test_index in fold.split(X_train,Y_train):\n",
        "    X_train1, X_test1 = X_train.iloc[train_index], X_train.iloc[test_index]\n",
        "    y_train1, y_test1 = Y_train[train_index], Y_train[test_index]\n",
        "    m=XGBClassifier(n_estimators=5000,random_state=1994,eval_metric='auc',learning_rate=0.03)\n",
        "    m.fit(X_train1,y_train1,eval_set=[(X_train1,y_train1),(X_test1, y_test1)], early_stopping_rounds=200,verbose=200)\n",
        "    preds=m.predict_proba(X_test1)[:,-1]\n",
        "    print(\"err_xgb: \",roc_auc_score(y_test1,preds))\n",
        "    errxgb.append(roc_auc_score(y_test1,preds))\n",
        "    p = m.predict_proba(X_test)[:,-1]\n",
        "    i=i+1\n",
        "    y_pred_tot_xgb.append(p)\n"
      ],
      "execution_count": null,
      "outputs": [
        {
          "output_type": "stream",
          "text": [
            "[0]\tvalidation_0-auc:0.554282\tvalidation_1-auc:0.552411\n",
            "Multiple eval metrics have been passed: 'validation_1-auc' will be used for early stopping.\n",
            "\n",
            "Will train until validation_1-auc hasn't improved in 200 rounds.\n",
            "[200]\tvalidation_0-auc:0.632329\tvalidation_1-auc:0.614346\n",
            "[400]\tvalidation_0-auc:0.673551\tvalidation_1-auc:0.65313\n",
            "[600]\tvalidation_0-auc:0.703288\tvalidation_1-auc:0.67903\n",
            "[800]\tvalidation_0-auc:0.727016\tvalidation_1-auc:0.702522\n",
            "[1000]\tvalidation_0-auc:0.746675\tvalidation_1-auc:0.722668\n",
            "[1200]\tvalidation_0-auc:0.761234\tvalidation_1-auc:0.736499\n",
            "[1400]\tvalidation_0-auc:0.776025\tvalidation_1-auc:0.751184\n",
            "[1600]\tvalidation_0-auc:0.789807\tvalidation_1-auc:0.764895\n",
            "[1800]\tvalidation_0-auc:0.800117\tvalidation_1-auc:0.775592\n",
            "[2000]\tvalidation_0-auc:0.809999\tvalidation_1-auc:0.785487\n",
            "[2200]\tvalidation_0-auc:0.818762\tvalidation_1-auc:0.79425\n",
            "[2400]\tvalidation_0-auc:0.825253\tvalidation_1-auc:0.801223\n",
            "[2600]\tvalidation_0-auc:0.833174\tvalidation_1-auc:0.808344\n",
            "[2800]\tvalidation_0-auc:0.839528\tvalidation_1-auc:0.814594\n",
            "[3000]\tvalidation_0-auc:0.844771\tvalidation_1-auc:0.819153\n",
            "[3200]\tvalidation_0-auc:0.849506\tvalidation_1-auc:0.823244\n"
          ],
          "name": "stdout"
        },
        {
          "output_type": "error",
          "ename": "KeyboardInterrupt",
          "evalue": "ignored",
          "traceback": [
            "\u001b[0;31m---------------------------------------------------------------------------\u001b[0m",
            "\u001b[0;31mKeyboardInterrupt\u001b[0m                         Traceback (most recent call last)",
            "\u001b[0;32m<ipython-input-354-b04abdb948a5>\u001b[0m in \u001b[0;36m<module>\u001b[0;34m()\u001b[0m\n\u001b[1;32m     10\u001b[0m     \u001b[0my_train1\u001b[0m\u001b[0;34m,\u001b[0m \u001b[0my_test1\u001b[0m \u001b[0;34m=\u001b[0m \u001b[0mY_train\u001b[0m\u001b[0;34m[\u001b[0m\u001b[0mtrain_index\u001b[0m\u001b[0;34m]\u001b[0m\u001b[0;34m,\u001b[0m \u001b[0mY_train\u001b[0m\u001b[0;34m[\u001b[0m\u001b[0mtest_index\u001b[0m\u001b[0;34m]\u001b[0m\u001b[0;34m\u001b[0m\u001b[0;34m\u001b[0m\u001b[0m\n\u001b[1;32m     11\u001b[0m     \u001b[0mm\u001b[0m\u001b[0;34m=\u001b[0m\u001b[0mXGBClassifier\u001b[0m\u001b[0;34m(\u001b[0m\u001b[0mn_estimators\u001b[0m\u001b[0;34m=\u001b[0m\u001b[0;36m5000\u001b[0m\u001b[0;34m,\u001b[0m\u001b[0mrandom_state\u001b[0m\u001b[0;34m=\u001b[0m\u001b[0;36m1994\u001b[0m\u001b[0;34m,\u001b[0m\u001b[0meval_metric\u001b[0m\u001b[0;34m=\u001b[0m\u001b[0;34m'auc'\u001b[0m\u001b[0;34m,\u001b[0m\u001b[0mlearning_rate\u001b[0m\u001b[0;34m=\u001b[0m\u001b[0;36m0.03\u001b[0m\u001b[0;34m)\u001b[0m\u001b[0;34m\u001b[0m\u001b[0;34m\u001b[0m\u001b[0m\n\u001b[0;32m---> 12\u001b[0;31m     \u001b[0mm\u001b[0m\u001b[0;34m.\u001b[0m\u001b[0mfit\u001b[0m\u001b[0;34m(\u001b[0m\u001b[0mX_train1\u001b[0m\u001b[0;34m,\u001b[0m\u001b[0my_train1\u001b[0m\u001b[0;34m,\u001b[0m\u001b[0meval_set\u001b[0m\u001b[0;34m=\u001b[0m\u001b[0;34m[\u001b[0m\u001b[0;34m(\u001b[0m\u001b[0mX_train1\u001b[0m\u001b[0;34m,\u001b[0m\u001b[0my_train1\u001b[0m\u001b[0;34m)\u001b[0m\u001b[0;34m,\u001b[0m\u001b[0;34m(\u001b[0m\u001b[0mX_test1\u001b[0m\u001b[0;34m,\u001b[0m \u001b[0my_test1\u001b[0m\u001b[0;34m)\u001b[0m\u001b[0;34m]\u001b[0m\u001b[0;34m,\u001b[0m \u001b[0mearly_stopping_rounds\u001b[0m\u001b[0;34m=\u001b[0m\u001b[0;36m200\u001b[0m\u001b[0;34m,\u001b[0m\u001b[0mverbose\u001b[0m\u001b[0;34m=\u001b[0m\u001b[0;36m200\u001b[0m\u001b[0;34m)\u001b[0m\u001b[0;34m\u001b[0m\u001b[0;34m\u001b[0m\u001b[0m\n\u001b[0m\u001b[1;32m     13\u001b[0m     \u001b[0mpreds\u001b[0m\u001b[0;34m=\u001b[0m\u001b[0mm\u001b[0m\u001b[0;34m.\u001b[0m\u001b[0mpredict_proba\u001b[0m\u001b[0;34m(\u001b[0m\u001b[0mX_test1\u001b[0m\u001b[0;34m)\u001b[0m\u001b[0;34m[\u001b[0m\u001b[0;34m:\u001b[0m\u001b[0;34m,\u001b[0m\u001b[0;34m-\u001b[0m\u001b[0;36m1\u001b[0m\u001b[0;34m]\u001b[0m\u001b[0;34m\u001b[0m\u001b[0;34m\u001b[0m\u001b[0m\n\u001b[1;32m     14\u001b[0m     \u001b[0mprint\u001b[0m\u001b[0;34m(\u001b[0m\u001b[0;34m\"err_xgb: \"\u001b[0m\u001b[0;34m,\u001b[0m\u001b[0mroc_auc_score\u001b[0m\u001b[0;34m(\u001b[0m\u001b[0my_test1\u001b[0m\u001b[0;34m,\u001b[0m\u001b[0mpreds\u001b[0m\u001b[0;34m)\u001b[0m\u001b[0;34m)\u001b[0m\u001b[0;34m\u001b[0m\u001b[0;34m\u001b[0m\u001b[0m\n",
            "\u001b[0;32m/usr/local/lib/python3.7/dist-packages/xgboost/sklearn.py\u001b[0m in \u001b[0;36mfit\u001b[0;34m(self, X, y, sample_weight, eval_set, eval_metric, early_stopping_rounds, verbose, xgb_model, sample_weight_eval_set, callbacks)\u001b[0m\n\u001b[1;32m    730\u001b[0m                               \u001b[0mevals_result\u001b[0m\u001b[0;34m=\u001b[0m\u001b[0mevals_result\u001b[0m\u001b[0;34m,\u001b[0m \u001b[0mobj\u001b[0m\u001b[0;34m=\u001b[0m\u001b[0mobj\u001b[0m\u001b[0;34m,\u001b[0m \u001b[0mfeval\u001b[0m\u001b[0;34m=\u001b[0m\u001b[0mfeval\u001b[0m\u001b[0;34m,\u001b[0m\u001b[0;34m\u001b[0m\u001b[0;34m\u001b[0m\u001b[0m\n\u001b[1;32m    731\u001b[0m                               \u001b[0mverbose_eval\u001b[0m\u001b[0;34m=\u001b[0m\u001b[0mverbose\u001b[0m\u001b[0;34m,\u001b[0m \u001b[0mxgb_model\u001b[0m\u001b[0;34m=\u001b[0m\u001b[0mxgb_model\u001b[0m\u001b[0;34m,\u001b[0m\u001b[0;34m\u001b[0m\u001b[0;34m\u001b[0m\u001b[0m\n\u001b[0;32m--> 732\u001b[0;31m                               callbacks=callbacks)\n\u001b[0m\u001b[1;32m    733\u001b[0m \u001b[0;34m\u001b[0m\u001b[0m\n\u001b[1;32m    734\u001b[0m         \u001b[0mself\u001b[0m\u001b[0;34m.\u001b[0m\u001b[0mobjective\u001b[0m \u001b[0;34m=\u001b[0m \u001b[0mxgb_options\u001b[0m\u001b[0;34m[\u001b[0m\u001b[0;34m\"objective\"\u001b[0m\u001b[0;34m]\u001b[0m\u001b[0;34m\u001b[0m\u001b[0;34m\u001b[0m\u001b[0m\n",
            "\u001b[0;32m/usr/local/lib/python3.7/dist-packages/xgboost/training.py\u001b[0m in \u001b[0;36mtrain\u001b[0;34m(params, dtrain, num_boost_round, evals, obj, feval, maximize, early_stopping_rounds, evals_result, verbose_eval, xgb_model, callbacks, learning_rates)\u001b[0m\n\u001b[1;32m    214\u001b[0m                            \u001b[0mevals\u001b[0m\u001b[0;34m=\u001b[0m\u001b[0mevals\u001b[0m\u001b[0;34m,\u001b[0m\u001b[0;34m\u001b[0m\u001b[0;34m\u001b[0m\u001b[0m\n\u001b[1;32m    215\u001b[0m                            \u001b[0mobj\u001b[0m\u001b[0;34m=\u001b[0m\u001b[0mobj\u001b[0m\u001b[0;34m,\u001b[0m \u001b[0mfeval\u001b[0m\u001b[0;34m=\u001b[0m\u001b[0mfeval\u001b[0m\u001b[0;34m,\u001b[0m\u001b[0;34m\u001b[0m\u001b[0;34m\u001b[0m\u001b[0m\n\u001b[0;32m--> 216\u001b[0;31m                            xgb_model=xgb_model, callbacks=callbacks)\n\u001b[0m\u001b[1;32m    217\u001b[0m \u001b[0;34m\u001b[0m\u001b[0m\n\u001b[1;32m    218\u001b[0m \u001b[0;34m\u001b[0m\u001b[0m\n",
            "\u001b[0;32m/usr/local/lib/python3.7/dist-packages/xgboost/training.py\u001b[0m in \u001b[0;36m_train_internal\u001b[0;34m(params, dtrain, num_boost_round, evals, obj, feval, xgb_model, callbacks)\u001b[0m\n\u001b[1;32m     72\u001b[0m         \u001b[0;31m# Skip the first update if it is a recovery step.\u001b[0m\u001b[0;34m\u001b[0m\u001b[0;34m\u001b[0m\u001b[0;34m\u001b[0m\u001b[0m\n\u001b[1;32m     73\u001b[0m         \u001b[0;32mif\u001b[0m \u001b[0mversion\u001b[0m \u001b[0;34m%\u001b[0m \u001b[0;36m2\u001b[0m \u001b[0;34m==\u001b[0m \u001b[0;36m0\u001b[0m\u001b[0;34m:\u001b[0m\u001b[0;34m\u001b[0m\u001b[0;34m\u001b[0m\u001b[0m\n\u001b[0;32m---> 74\u001b[0;31m             \u001b[0mbst\u001b[0m\u001b[0;34m.\u001b[0m\u001b[0mupdate\u001b[0m\u001b[0;34m(\u001b[0m\u001b[0mdtrain\u001b[0m\u001b[0;34m,\u001b[0m \u001b[0mi\u001b[0m\u001b[0;34m,\u001b[0m \u001b[0mobj\u001b[0m\u001b[0;34m)\u001b[0m\u001b[0;34m\u001b[0m\u001b[0;34m\u001b[0m\u001b[0m\n\u001b[0m\u001b[1;32m     75\u001b[0m             \u001b[0mbst\u001b[0m\u001b[0;34m.\u001b[0m\u001b[0msave_rabit_checkpoint\u001b[0m\u001b[0;34m(\u001b[0m\u001b[0;34m)\u001b[0m\u001b[0;34m\u001b[0m\u001b[0;34m\u001b[0m\u001b[0m\n\u001b[1;32m     76\u001b[0m             \u001b[0mversion\u001b[0m \u001b[0;34m+=\u001b[0m \u001b[0;36m1\u001b[0m\u001b[0;34m\u001b[0m\u001b[0;34m\u001b[0m\u001b[0m\n",
            "\u001b[0;32m/usr/local/lib/python3.7/dist-packages/xgboost/core.py\u001b[0m in \u001b[0;36mupdate\u001b[0;34m(self, dtrain, iteration, fobj)\u001b[0m\n\u001b[1;32m   1107\u001b[0m         \u001b[0;32mif\u001b[0m \u001b[0mfobj\u001b[0m \u001b[0;32mis\u001b[0m \u001b[0;32mNone\u001b[0m\u001b[0;34m:\u001b[0m\u001b[0;34m\u001b[0m\u001b[0;34m\u001b[0m\u001b[0m\n\u001b[1;32m   1108\u001b[0m             _check_call(_LIB.XGBoosterUpdateOneIter(self.handle, ctypes.c_int(iteration),\n\u001b[0;32m-> 1109\u001b[0;31m                                                     dtrain.handle))\n\u001b[0m\u001b[1;32m   1110\u001b[0m         \u001b[0;32melse\u001b[0m\u001b[0;34m:\u001b[0m\u001b[0;34m\u001b[0m\u001b[0;34m\u001b[0m\u001b[0m\n\u001b[1;32m   1111\u001b[0m             \u001b[0mpred\u001b[0m \u001b[0;34m=\u001b[0m \u001b[0mself\u001b[0m\u001b[0;34m.\u001b[0m\u001b[0mpredict\u001b[0m\u001b[0;34m(\u001b[0m\u001b[0mdtrain\u001b[0m\u001b[0;34m)\u001b[0m\u001b[0;34m\u001b[0m\u001b[0;34m\u001b[0m\u001b[0m\n",
            "\u001b[0;31mKeyboardInterrupt\u001b[0m: "
          ]
        }
      ]
    },
    {
      "cell_type": "code",
      "metadata": {
        "id": "93yj6SLjGWbD"
      },
      "source": [
        ""
      ],
      "execution_count": null,
      "outputs": []
    }
  ]
}